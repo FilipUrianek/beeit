{
 "cells": [
  {
   "cell_type": "markdown",
   "metadata": {},
   "source": [
    "Prvním krokem k tvorbě naší aplikace bude vytvoření virtuálního prostředí jazyka Python3. Virtuální prostředí představuje oddělenou \"větev\" nainstalovaného interpreteru a umožňuje instalovat odlišné moduly tak, že k nim hlavní instance Pythonu nemá přístup. Virutální prostředí můžeme vytvořit pomocí následujícího příkazu v terminálu či příkazovém řádku:\n",
    "\n",
    "`$ python3 -m venv .venv`\n",
    "\n",
    "Následně je pro použití nutné prostředí aktivovat (způsob se liší podle platformy)\n",
    "\n",
    "macOS/Linux (bash/zsh): <br>\n",
    "`$ source .venv/bin/activate`\n",
    "\n",
    "Windows (cmd): <br>\n",
    "`C:\\> <venv>\\Scripts\\activate.bat`\n",
    "\n",
    "Windows (PowerShell): <br>\n",
    "`C:\\> <venv>\\Scripts\\activate.ps1`\n",
    "\n",
    "Aktivované prostředí indikuje jeho název v závorce na začátku příkazového řádku: <br>\n",
    "`(.venv) myaccount@mymachine ProjectDirectory %`\n",
    "\n",
    "Moduly instalujeme běžně příkazem `pip install <mymodule>` a programy spouštíme `python <myapp>`\n",
    "\n",
    "Do virtuálního prostředí budeme instalovat veškeré potřebné moduly a budeme ho používat ke spuštění naší aplikace. Prvním krokem k tvorbě aplikace bude zdroj dat, která budeme následně pomocí webového prostředí uživateli prezentovat.\n",
    "K získávání dat o poloze a počasí budeme využívat API odpovídající standardu REST od poskytovatele OpenWeatherMap. Standard REST(RESTful) specifikuje provozovateli a tvůrci API pravidla, podle kterých má být API vystavěna a provozována. Pro nás jakožto koncového uživatele, který implementuje API ve své aplikaci, je však relevantní pouze informace, že \"reprezentace\" zdroje, tedy informace dodané API, jsou ve standardním formátu JSON. Pro používání API je také důležité znát pojem parametrů, které jsou unikátní pro jednotlivé typy HTTP dotazů na API. Konkrétní parametry specifikuje provozovatel API, v našem případě OpenWeatherMap.\n",
    "\n",
    "Více o standardu REST: <https://www.redhat.com/en/topics/api/what-is-a-rest-api>\n",
    "\n",
    "API OpenWeatherMap: <https://openweathermap.org/api> \n",
    "\n",
    "Prvním krokem k využití OWM API je registrace, po které Vám bude přidělen unikátní identifikátor, tzv. API Key. Jedná se o klíčový parametr pro všechny dotazy na API a je unikátní pro každého registrovaného uživatele. \n",
    "\n",
    "Po registraci a získání API klíče je nutné zjistit, které konkrétní parametry budeme muset API dodat tak, abychom zíkali potřebné informace o poloze a počasí.\n",
    "\n",
    "Pro získávání meteorologických dat budeme využívat Weather API, pro zeměpisná data pak Geocoding API."
   ]
  },
  {
   "cell_type": "code",
   "execution_count": 2,
   "metadata": {},
   "outputs": [],
   "source": [
    "weather_api_url = \"https://api.openweathermap.org/data/2.5/weather\"\n",
    "geocoding_api_url = \"http://api.openweathermap.org/geo/1.0/direct\""
   ]
  },
  {
   "cell_type": "markdown",
   "metadata": {},
   "source": [
    "Za účelem volání HTTP dotazů existuje pro jazyk Python modul `requests` <https://pypi.org/project/requests/>, kterou si nainstalujeme a importujeme do naší aplikace\n",
    "\n",
    "`pip install requests`<br>\n",
    "`import requests`\n",
    "\n",
    "Další důležitou částí jsou data ve formátu JSON. Formát JSON (JavaScript Object Notation) je hojně využívaný z důvodu své jednoduché čitelnosti jak programátory, tak počítači. I přes svůj název se jedná o jazykově nezávislou strukturu, jejíž datové podstruktuy odpovídají běžným datovým strukturám využívaným ve většině moderních programovacích jazyků. V jazyce Python se jedná o slovníky (dictionary) a seznamy (list). <br>\n",
    "\n",
    "<https://www.json.org/json-en.html><br>\n",
    "\n",
    "Pro práci s formátem JSON nabízí modul requests vestavěnou metodu `.json()`, alternativně můžeme však využít celý vestavěný modul `json`, který nabízí širší funkcionalitu."
   ]
  },
  {
   "cell_type": "markdown",
   "metadata": {},
   "source": [
    "Posledním krokem před prvním voláním dotazu API je tvorba souboru s proměnnou prostředí, která bude uchovávat náš unikátní API klíč. Ten bychom neměli v žádném případě odhalovat ve zdrojovém kódu naší aplikace. Proměnná prostředí je souborem `.env`, který obsahuje data v řádcích v následujícím formátů: \"MY_API_KEY=<api_key>\". \n",
    "\n",
    "Vytvořit ho můžeme pomocí terminálu či přímo modulu jazyka Python `os`\n",
    "\n",
    "macOS/Linux:\n",
    "\n",
    "`$ touch .env` <br>\n",
    "`$ echo \"USER_KEY=<api_key>\" >> .env`"
   ]
  },
  {
   "cell_type": "code",
   "execution_count": null,
   "metadata": {},
   "outputs": [],
   "source": [
    "api_key = \"můj API klíč\"\n",
    "import os\n",
    "os.system(\"touch .env\")\n",
    "os.system(f'echo \"USER_KEY={api_key}\" >> .env')"
   ]
  },
  {
   "cell_type": "markdown",
   "metadata": {},
   "source": [
    "V aplikaci pak jednotlivé proměnné prostředí přecteme pomocí modulu python-decouple <https://pypi.org/project/python-decouple/>, který slouží k oddělení nastavení aplikace od samotného zdrojového kódu.\n",
    "\n",
    "`pip install python-decouple` <br>\n",
    "`from decouple import config`\n",
    "\n",
    "Tím můžeme pokročit k poslání prvního dotazu na OpenWeatherMap API."
   ]
  },
  {
   "cell_type": "code",
   "execution_count": 3,
   "metadata": {},
   "outputs": [],
   "source": [
    "import requests\n",
    "import json\n",
    "from decouple import config\n",
    "\n",
    "KEY = config('USER_KEY')\n",
    "weather_api_url = \"https://api.openweathermap.org/data/2.5/weather\"\n",
    "\n",
    "# jako souřadnice budeme používat přibližné souřadnice středu Čech\n",
    "lat = 50\n",
    "lon = 14\n",
    "\n",
    "# veškeré parametry HTTP dotazu umístíme do dictionary kde key parametru bude jeho název specifikovaný provozovatelem API\n",
    "\n",
    "params = {\n",
    "    \"APPID\":KEY,\n",
    "    \"lat\":lat,\n",
    "    \"lon\":lon\n",
    "}\n",
    "\n",
    "# nyní můžeme poslat samotnou žádost\n",
    "\n",
    "response = requests.get(weather_api_url, params=params)"
   ]
  },
  {
   "cell_type": "code",
   "execution_count": null,
   "metadata": {},
   "outputs": [
    {
     "data": {
      "text/plain": [
       "200"
      ]
     },
     "execution_count": 4,
     "metadata": {},
     "output_type": "execute_result"
    }
   ],
   "source": [
    "# pomocí statusových kódu HTTP žádosti můžeme zjistit, zda proběhlo volání API bez problémů, kód 200 signalizuje správný průběh\n",
    "\n",
    "response.status_code"
   ]
  },
  {
   "cell_type": "code",
   "execution_count": 5,
   "metadata": {},
   "outputs": [
    {
     "data": {
      "text/plain": [
       "b'{\"coord\":{\"lon\":14,\"lat\":50},\"weather\":[{\"id\":803,\"main\":\"Clouds\",\"description\":\"broken clouds\",\"icon\":\"04d\"}],\"base\":\"stations\",\"main\":{\"temp\":301.82,\"feels_like\":300.76,\"temp_min\":300.05,\"temp_max\":304.24,\"pressure\":1016,\"humidity\":30,\"sea_level\":1016,\"grnd_level\":989},\"visibility\":10000,\"wind\":{\"speed\":1,\"deg\":58,\"gust\":2.3},\"clouds\":{\"all\":67},\"dt\":1658678737,\"sys\":{\"type\":1,\"id\":6848,\"country\":\"CZ\",\"sunrise\":1658632924,\"sunset\":1658689116},\"timezone\":7200,\"id\":3069738,\"name\":\"Ni\\xc5\\xbebor\",\"cod\":200}'"
      ]
     },
     "execution_count": 5,
     "metadata": {},
     "output_type": "execute_result"
    }
   ],
   "source": [
    "# nyní si zobrazíme obsah vrácený HTTP dotazem\n",
    "\n",
    "response.content"
   ]
  },
  {
   "cell_type": "code",
   "execution_count": 6,
   "metadata": {},
   "outputs": [
    {
     "data": {
      "text/plain": [
       "{'coord': {'lon': 14, 'lat': 50},\n",
       " 'weather': [{'id': 803,\n",
       "   'main': 'Clouds',\n",
       "   'description': 'broken clouds',\n",
       "   'icon': '04d'}],\n",
       " 'base': 'stations',\n",
       " 'main': {'temp': 301.82,\n",
       "  'feels_like': 300.76,\n",
       "  'temp_min': 300.05,\n",
       "  'temp_max': 304.24,\n",
       "  'pressure': 1016,\n",
       "  'humidity': 30,\n",
       "  'sea_level': 1016,\n",
       "  'grnd_level': 989},\n",
       " 'visibility': 10000,\n",
       " 'wind': {'speed': 1, 'deg': 58, 'gust': 2.3},\n",
       " 'clouds': {'all': 67},\n",
       " 'dt': 1658678737,\n",
       " 'sys': {'type': 1,\n",
       "  'id': 6848,\n",
       "  'country': 'CZ',\n",
       "  'sunrise': 1658632924,\n",
       "  'sunset': 1658689116},\n",
       " 'timezone': 7200,\n",
       " 'id': 3069738,\n",
       " 'name': 'Nižbor',\n",
       " 'cod': 200}"
      ]
     },
     "execution_count": 6,
     "metadata": {},
     "output_type": "execute_result"
    }
   ],
   "source": [
    "# obsah převedeme na python objekt JSON, který se chová jako běžný dictionary\n",
    "\n",
    "data = json.loads(response.content)\n",
    "data"
   ]
  },
  {
   "cell_type": "code",
   "execution_count": 7,
   "metadata": {},
   "outputs": [
    {
     "data": {
      "text/plain": [
       "'broken clouds'"
      ]
     },
     "execution_count": 7,
     "metadata": {},
     "output_type": "execute_result"
    }
   ],
   "source": [
    "# nyní můžeme z JSON objektu získávat jednotlivé údaje o počasí v naší lokalitě\n",
    "\n",
    "data[\"weather\"][0][\"description\"]"
   ]
  },
  {
   "cell_type": "markdown",
   "metadata": {},
   "source": [
    "<h1>Cvičení 1</h1>\n",
    "\n",
    "Vytvořte program, který umožní uživateli zadat souřadnice a na jejich základě získá informace o počasí v jejich lokalitě. Ty úhledně vypíše na výstupu. Bude se jednat o název místa, zemi, slovní popis počasí, teplotu (v °C) a rychlost větru (v km/h). Pro detaily k jednotlivým údajům konzultujte oficiální dokumentaci OpenWeatherMap."
   ]
  },
  {
   "cell_type": "code",
   "execution_count": null,
   "metadata": {},
   "outputs": [],
   "source": [
    "# místo pro váš kód"
   ]
  },
  {
   "cell_type": "markdown",
   "metadata": {},
   "source": [
    "<h1>Vzorové řešení 1</h1>"
   ]
  },
  {
   "cell_type": "code",
   "execution_count": 3,
   "metadata": {},
   "outputs": [
    {
     "name": "stdout",
     "output_type": "stream",
     "text": [
      "Vrsar\n",
      "HR\n",
      "clear sky\n",
      "27.22 °C\n",
      "11.84 km/h\n"
     ]
    }
   ],
   "source": [
    "# spusťte pro kontrolu funkcionality\n",
    "\n",
    "import json\n",
    "import requests\n",
    "from decouple import config\n",
    "\n",
    "KEY = config('USER_KEY')\n",
    "\n",
    "def get_user_input():\n",
    "    values = []\n",
    "    for c in [\"latitude\", \"longtitude\"]:\n",
    "        try:\n",
    "            val = float(input(f\"Please enter the {c} of your location: \"))\n",
    "        except ValueError:\n",
    "            print(\"Error - not a number, please retry\")\n",
    "            val = float(input(f\"Please enter the {c} of your location: \"))\n",
    "        values.append(val)         \n",
    "    return values\n",
    "\n",
    "def parse_data(lat_lon):\n",
    "    api_url = \"https://api.openweathermap.org/data/2.5/weather\"\n",
    "    params = {\"APPID\": KEY}\n",
    "    params[\"lat\"], params[\"lon\"] = lat_lon\n",
    "    response = requests.get(api_url,params=params) \n",
    "    return json.loads(response.content) if response.status_code == 200 else print(\"Uknown error when sending HTTP request\")\n",
    "        \n",
    "def extract_weather(data):\n",
    "    city = data[\"name\"]\n",
    "    country = data[\"sys\"][\"country\"]\n",
    "    desc = data[\"weather\"][0][\"description\"]\n",
    "    temp_raw = data[\"main\"][\"temp\"] - 273.15\n",
    "    wind_raw = data[\"wind\"][\"speed\"] * 3.6\n",
    "    temp = str(round(temp_raw, 2)) + \" °C\"\n",
    "    wind = str(round(wind_raw,2)) + \" km/h\"\n",
    "    return [city, country, desc, temp, wind]\n",
    "\n",
    "def print_all(_list):\n",
    "    for x in _list:\n",
    "        print(x)\n",
    "        \n",
    "def main():\n",
    "    lat_lon = get_user_input()\n",
    "    weather_data = parse_data(lat_lon)\n",
    "    to_print = extract_weather(weather_data)\n",
    "    print_all(to_print)\n",
    "\n",
    "if __name__ == '__main__':\n",
    "    main() "
   ]
  },
  {
   "cell_type": "markdown",
   "metadata": {},
   "source": [
    "Nyní jsme se naučili používat API na získávání informací o počasí, v aplikaci však nebudeme využívat pouze tuto API. Další potřebnou součástí je tzv. Geocoding API. Ta nám umožňuje získavat zeměpisné informace na základě vstupních dat determinujících konkrétní místo. Zpravidla se jedná buď o souřadnice daného bodu, či název města, státu (v USA) a země. \n",
    "\n",
    "<https://openweathermap.org/api/geocoding-api>\n",
    "\n",
    "Pro získávání souřadnic daného bodu z názvu místa budeme využívat funkci \"direct geocoding\", která nám vrátí soubor JSON obsahující souřadnice místa. Tato funkcionalita nám později v aplikaci umožní vyhledávání počasí podle názvu místa, což může být pro některé uživatele přívětivější, než hledání na mapě. Na základě dokumentace k této funkci můžeme zjistit, že potřebné parametry jsou ve formátu `q={název města}, {kód státu (pro USA)}, {kód země}`"
   ]
  },
  {
   "cell_type": "code",
   "execution_count": 6,
   "metadata": {},
   "outputs": [],
   "source": [
    "import requests\n",
    "import json\n",
    "from decouple import config\n",
    "\n",
    "KEY = config('USER_KEY')\n",
    "direct_geocoding_api_url = \"http://api.openweathermap.org/geo/1.0/direct\"\n",
    "\n",
    "# jako název budeme používat Prahu a Českou republiku\n",
    "\n",
    "query = \"Praha, CZ\" \n",
    "\n",
    "# veškeré parametry HTTP dotazu umístíme do dictionary kde key parametru bude jeho název specifikovaný provozovatelem API\n",
    "\n",
    "params = {\n",
    "    \"APPID\": KEY,\n",
    "    \"q\":query\n",
    "}\n",
    "\n",
    "# nyní můžeme poslat samotnou žádost\n",
    "\n",
    "response = requests.get(direct_geocoding_api_url, params=params)\n"
   ]
  },
  {
   "cell_type": "code",
   "execution_count": 7,
   "metadata": {},
   "outputs": [
    {
     "data": {
      "text/plain": [
       "200"
      ]
     },
     "execution_count": 7,
     "metadata": {},
     "output_type": "execute_result"
    }
   ],
   "source": [
    "# pomocí statusových kódu HTTP žádosti můžeme zjistit, zda proběhlo volání API bez problémů, kód 200 signalizuje správný průběh\n",
    "\n",
    "response.status_code"
   ]
  },
  {
   "cell_type": "code",
   "execution_count": 8,
   "metadata": {},
   "outputs": [
    {
     "data": {
      "text/plain": [
       "b'[{\"name\":\"Prague\",\"local_names\":{\"ro\":\"Praga\",\"mk\":\"\\xd0\\x9f\\xd1\\x80\\xd0\\xb0\\xd0\\xb3\\xd0\\xb0\",\"jv\":\"Praha\",\"hy\":\"\\xd5\\x8a\\xd6\\x80\\xd5\\xa1\\xd5\\xb0\\xd5\\xa1\",\"mn\":\"\\xd0\\x9f\\xd1\\x80\\xd0\\xb0\\xd0\\xb3\\xd0\\xb0\",\"vi\":\"Praha\",\"sq\":\"Praga\",\"mr\":\"\\xe0\\xa4\\xaa\\xe0\\xa5\\x8d\\xe0\\xa4\\xb0\\xe0\\xa4\\xbe\\xe0\\xa4\\x97\",\"az\":\"Praqa\",\"tr\":\"Prag\",\"en\":\"Prague\",\"fr\":\"Prague\",\"ca\":\"Praga\",\"et\":\"Praha\",\"zh\":\"\\xe5\\xb8\\x83\\xe6\\x8b\\x89\\xe6\\xa0\\xbc\",\"io\":\"Praha\",\"oc\":\"Praga\",\"uk\":\"\\xd0\\x9f\\xd1\\x80\\xd0\\xb0\\xd0\\xb3\\xd0\\xb0\",\"tt\":\"\\xd0\\x9f\\xd1\\x80\\xd0\\xb0\\xd0\\xb3\\xd0\\xb0\",\"se\":\"Praha\",\"sk\":\"Praha\",\"mi\":\"Prague\",\"am\":\"\\xe1\\x8d\\x95\\xe1\\x88\\xab\\xe1\\x8c\\x8d\",\"af\":\"Praag\",\"cy\":\"Prag\",\"bn\":\"\\xe0\\xa6\\xaa\\xe0\\xa7\\x8d\\xe0\\xa6\\xb0\\xe0\\xa6\\xbe\\xe0\\xa6\\x97\",\"gv\":\"Praag\",\"pt\":\"Praga\",\"fy\":\"Praach\",\"co\":\"Praga\",\"eo\":\"\\xc4\\x88efurba regiono Prago\",\"ak\":\"Prague\",\"gl\":\"Praga\",\"nn\":\"Praha\",\"zu\":\"IPraha\",\"ka\":\"\\xe1\\x83\\x9e\\xe1\\x83\\xa0\\xe1\\x83\\x90\\xe1\\x83\\xa6\\xe1\\x83\\x90\",\"kw\":\"Praha\",\"yo\":\"Prague\",\"ja\":\"\\xe3\\x83\\x97\\xe3\\x83\\xa9\\xe3\\x83\\x8f\",\"kl\":\"Praha\",\"ga\":\"Pr\\xc3\\xa1g\",\"mt\":\"Praga\",\"th\":\"\\xe0\\xb8\\x9b\\xe0\\xb8\\xa3\\xe0\\xb8\\xb2\\xe0\\xb8\\x81\",\"fa\":\"\\xd9\\xbe\\xd8\\xb1\\xd8\\xa7\\xda\\xaf\",\"ar\":\"\\xd8\\xa8\\xd8\\xb1\\xd8\\xa7\\xd8\\xba\",\"pl\":\"Miasto Sto\\xc5\\x82eczne Praga\",\"ru\":\"\\xd0\\xa1\\xd1\\x82\\xd0\\xbe\\xd0\\xbb\\xd0\\xb8\\xd1\\x86\\xd0\\xb0 \\xd0\\x9f\\xd1\\x80\\xd0\\xb0\\xd0\\xb3\\xd0\\xb0\",\"cs\":\"Hlavn\\xc3\\xad m\\xc4\\x9bsto Praha\",\"ky\":\"\\xd0\\x9f\\xd1\\x80\\xd0\\xb0\\xd0\\xb3\\xd0\\xb0\",\"ia\":\"Praga\",\"ml\":\"\\xe0\\xb4\\xaa\\xe0\\xb5\\x8d\\xe0\\xb4\\xb0\\xe0\\xb4\\xbe\\xe0\\xb4\\x97\\xe0\\xb5\\x8d\",\"kv\":\"\\xd0\\x9f\\xd1\\x80\\xd0\\xb0\\xd0\\xb3\\xd0\\xb0\",\"it\":\"Praga\",\"lb\":\"Prag\",\"sl\":\"Praga\",\"na\":\"Praha\",\"bo\":\"\\xe0\\xbd\\x94\\xe0\\xbd\\xb4\\xe0\\xbc\\x8b\\xe0\\xbd\\xa3\\xe0\\xbc\\x8b\\xe0\\xbd\\x81\\xe0\\xbd\\xba\\xe0\\xbc\\x8d\",\"sc\":\"Praga\",\"tl\":\"Praga\",\"ta\":\"\\xe0\\xae\\xaa\\xe0\\xae\\xbf\\xe0\\xae\\xb0\\xe0\\xae\\xbe\\xe0\\xae\\x95\\xe0\\xae\\xbe\",\"os\":\"\\xd0\\x9f\\xd1\\x80\\xd0\\xb0\\xd0\\xb3\\xc3\\xa6\",\"ur\":\"\\xd9\\xbe\\xd8\\xb1\\xd8\\xa7\\xda\\xaf\",\"fi\":\"Praha\",\"da\":\"Prag\",\"sh\":\"Prag\",\"hu\":\"Pr\\xc3\\xa1ga f\\xc5\\x91v\\xc3\\xa1ros\",\"my\":\"\\xe1\\x80\\x95\\xe1\\x80\\x9b\\xe1\\x80\\x80\\xe1\\x80\\xba\\xe1\\x80\\x82\\xe1\\x80\\xba\\xe1\\x80\\x99\\xe1\\x80\\xbc\\xe1\\x80\\xad\\xe1\\x80\\xaf\\xe1\\x80\\xb7\",\"kk\":\"\\xd0\\x9f\\xd1\\x80\\xd0\\xb0\\xd0\\xb3\\xd0\\xb0\",\"bg\":\"\\xd0\\x9f\\xd1\\x80\\xd0\\xb0\\xd0\\xb3\\xd0\\xb0\",\"be\":\"\\xd0\\x9f\\xd1\\x80\\xd0\\xb0\\xd0\\xb3\\xd0\\xb0\",\"ms\":\"Praha\",\"br\":\"Praha\",\"bs\":\"Prag\",\"sv\":\"Prag\",\"no\":\"Praha\",\"li\":\"Praag\",\"id\":\"Praha\",\"tg\":\"\\xd0\\x9f\\xd1\\x80\\xd0\\xb0\\xd0\\xb3\\xd0\\xb0\",\"sr\":\"\\xd0\\x9f\\xd1\\x80\\xd0\\xb0\\xd0\\xb3\",\"cv\":\"\\xd0\\x9f\\xd1\\x80\\xd0\\xb0\\xd0\\xb3\\xd0\\xb0\",\"eu\":\"Praga\",\"la\":\"Praga\",\"el\":\"\\xce\\xa0\\xcf\\x81\\xce\\xac\\xce\\xb3\\xce\\xb1\",\"hr\":\"Prag\",\"is\":\"Prag\",\"de\":\"Hauptstadt Prag\",\"gd\":\"Pr\\xc3\\xa0g\",\"ps\":\"\\xd9\\xbe\\xd8\\xb1\\xd8\\xa7\\xda\\xab\",\"ko\":\"\\xed\\x94\\x84\\xeb\\x9d\\xbc\\xed\\x95\\x98\",\"an\":\"Praga\",\"ug\":\"\\xd9\\xbe\\xd8\\xb1\\xd8\\xa7\\xda\\xaf\\xd8\\xa7\",\"fo\":\"Prag\",\"ee\":\"Prague\",\"yi\":\"\\xd7\\xa4\\xd7\\xa8\\xd7\\x90\\xd7\\x92\",\"ie\":\"Praha\",\"lv\":\"Pr\\xc4\\x81ga\",\"cu\":\"\\xd0\\x9f\\xd1\\x80\\xd0\\xb0\\xd0\\xb3\\xd0\\xb0\",\"ku\":\"Prag\",\"uz\":\"Praga\",\"hi\":\"\\xe0\\xa4\\xaa\\xe0\\xa5\\x8d\\xe0\\xa4\\xb0\\xe0\\xa4\\xbe\\xe0\\xa4\\x97\",\"lt\":\"Praha\",\"es\":\"Praga\",\"sw\":\"Praha\",\"qu\":\"Praha\",\"kn\":\"\\xe0\\xb2\\xaa\\xe0\\xb3\\x8d\\xe0\\xb2\\xb0\\xe0\\xb2\\xbe\\xe0\\xb2\\x97\",\"nl\":\"Praag\",\"he\":\"\\xd7\\xa4\\xd7\\xa8\\xd7\\x90\\xd7\\x92\"},\"lat\":50.0874654,\"lon\":14.4212535,\"country\":\"CZ\",\"state\":\"Prague\"}]'"
      ]
     },
     "execution_count": 8,
     "metadata": {},
     "output_type": "execute_result"
    }
   ],
   "source": [
    "# nyní si zobrazíme obsah vrácený HTTP dotazem\n",
    "\n",
    "response.content"
   ]
  },
  {
   "cell_type": "code",
   "execution_count": 9,
   "metadata": {},
   "outputs": [
    {
     "data": {
      "text/plain": [
       "[{'name': 'Prague',\n",
       "  'local_names': {'ro': 'Praga',\n",
       "   'mk': 'Прага',\n",
       "   'jv': 'Praha',\n",
       "   'hy': 'Պրահա',\n",
       "   'mn': 'Прага',\n",
       "   'vi': 'Praha',\n",
       "   'sq': 'Praga',\n",
       "   'mr': 'प्राग',\n",
       "   'az': 'Praqa',\n",
       "   'tr': 'Prag',\n",
       "   'en': 'Prague',\n",
       "   'fr': 'Prague',\n",
       "   'ca': 'Praga',\n",
       "   'et': 'Praha',\n",
       "   'zh': '布拉格',\n",
       "   'io': 'Praha',\n",
       "   'oc': 'Praga',\n",
       "   'uk': 'Прага',\n",
       "   'tt': 'Прага',\n",
       "   'se': 'Praha',\n",
       "   'sk': 'Praha',\n",
       "   'mi': 'Prague',\n",
       "   'am': 'ፕራግ',\n",
       "   'af': 'Praag',\n",
       "   'cy': 'Prag',\n",
       "   'bn': 'প্রাগ',\n",
       "   'gv': 'Praag',\n",
       "   'pt': 'Praga',\n",
       "   'fy': 'Praach',\n",
       "   'co': 'Praga',\n",
       "   'eo': 'Ĉefurba regiono Prago',\n",
       "   'ak': 'Prague',\n",
       "   'gl': 'Praga',\n",
       "   'nn': 'Praha',\n",
       "   'zu': 'IPraha',\n",
       "   'ka': 'პრაღა',\n",
       "   'kw': 'Praha',\n",
       "   'yo': 'Prague',\n",
       "   'ja': 'プラハ',\n",
       "   'kl': 'Praha',\n",
       "   'ga': 'Prág',\n",
       "   'mt': 'Praga',\n",
       "   'th': 'ปราก',\n",
       "   'fa': 'پراگ',\n",
       "   'ar': 'براغ',\n",
       "   'pl': 'Miasto Stołeczne Praga',\n",
       "   'ru': 'Столица Прага',\n",
       "   'cs': 'Hlavní město Praha',\n",
       "   'ky': 'Прага',\n",
       "   'ia': 'Praga',\n",
       "   'ml': 'പ്രാഗ്',\n",
       "   'kv': 'Прага',\n",
       "   'it': 'Praga',\n",
       "   'lb': 'Prag',\n",
       "   'sl': 'Praga',\n",
       "   'na': 'Praha',\n",
       "   'bo': 'པུ་ལ་ཁེ།',\n",
       "   'sc': 'Praga',\n",
       "   'tl': 'Praga',\n",
       "   'ta': 'பிராகா',\n",
       "   'os': 'Прагæ',\n",
       "   'ur': 'پراگ',\n",
       "   'fi': 'Praha',\n",
       "   'da': 'Prag',\n",
       "   'sh': 'Prag',\n",
       "   'hu': 'Prága főváros',\n",
       "   'my': 'ပရက်ဂ်မြို့',\n",
       "   'kk': 'Прага',\n",
       "   'bg': 'Прага',\n",
       "   'be': 'Прага',\n",
       "   'ms': 'Praha',\n",
       "   'br': 'Praha',\n",
       "   'bs': 'Prag',\n",
       "   'sv': 'Prag',\n",
       "   'no': 'Praha',\n",
       "   'li': 'Praag',\n",
       "   'id': 'Praha',\n",
       "   'tg': 'Прага',\n",
       "   'sr': 'Праг',\n",
       "   'cv': 'Прага',\n",
       "   'eu': 'Praga',\n",
       "   'la': 'Praga',\n",
       "   'el': 'Πράγα',\n",
       "   'hr': 'Prag',\n",
       "   'is': 'Prag',\n",
       "   'de': 'Hauptstadt Prag',\n",
       "   'gd': 'Pràg',\n",
       "   'ps': 'پراګ',\n",
       "   'ko': '프라하',\n",
       "   'an': 'Praga',\n",
       "   'ug': 'پراگا',\n",
       "   'fo': 'Prag',\n",
       "   'ee': 'Prague',\n",
       "   'yi': 'פראג',\n",
       "   'ie': 'Praha',\n",
       "   'lv': 'Prāga',\n",
       "   'cu': 'Прага',\n",
       "   'ku': 'Prag',\n",
       "   'uz': 'Praga',\n",
       "   'hi': 'प्राग',\n",
       "   'lt': 'Praha',\n",
       "   'es': 'Praga',\n",
       "   'sw': 'Praha',\n",
       "   'qu': 'Praha',\n",
       "   'kn': 'ಪ್ರಾಗ',\n",
       "   'nl': 'Praag',\n",
       "   'he': 'פראג'},\n",
       "  'lat': 50.0874654,\n",
       "  'lon': 14.4212535,\n",
       "  'country': 'CZ',\n",
       "  'state': 'Prague'}]"
      ]
     },
     "execution_count": 9,
     "metadata": {},
     "output_type": "execute_result"
    }
   ],
   "source": [
    "# obsah převedeme na python objekt JSON, který se chová jako běžný dictionary\n",
    "\n",
    "data = json.loads(response.content)\n",
    "data"
   ]
  },
  {
   "cell_type": "code",
   "execution_count": 10,
   "metadata": {},
   "outputs": [
    {
     "data": {
      "text/plain": [
       "(50.0874654, 14.4212535)"
      ]
     },
     "execution_count": 10,
     "metadata": {},
     "output_type": "execute_result"
    }
   ],
   "source": [
    "# nyní můžeme zjistit souřadnice místa, které jsme vyhledali na základě názvu\n",
    "\n",
    "data[0][\"lat\"], data[0][\"lon\"]"
   ]
  },
  {
   "cell_type": "markdown",
   "metadata": {},
   "source": [
    "Pokud bychom však chtěli vyhledávat obráceně, tedy ze souřadnic získat název místa, museli bychom využít jinou funkci. Ta se nazývá \"reverse geocoding\" a obdobně pro ní OpenWeatherMap nabízí API."
   ]
  },
  {
   "cell_type": "code",
   "execution_count": null,
   "metadata": {},
   "outputs": [],
   "source": [
    "reverse_geocoding_api_url = \"http://api.openweathermap.org/geo/1.0/reverse\""
   ]
  },
  {
   "cell_type": "markdown",
   "metadata": {},
   "source": [
    "Její parametry jsou identické, jako API na získávání meteorologických dat."
   ]
  },
  {
   "cell_type": "code",
   "execution_count": 1,
   "metadata": {},
   "outputs": [],
   "source": [
    "import requests\n",
    "import json\n",
    "from decouple import config\n",
    "\n",
    "KEY = config('USER_KEY')\n",
    "reverse_geocoding_api_url = \"http://api.openweathermap.org/geo/1.0/reverse\"\n",
    "\n",
    "# jako souřadnice budeme používat přibližné souřadnice středu Čech\n",
    "lat = 50\n",
    "lon = 14\n",
    "# veškeré parametry HTTP dotazu umístíme do dictionary kde key parametru bude jeho název specifikovaný provozovatelem API\n",
    "\n",
    "params = {\n",
    "    \"APPID\": KEY,\n",
    "    \"lat\": lat,\n",
    "    \"lon\": lon\n",
    "}\n",
    "\n",
    "# nyní můžeme poslat samotnou žádost\n",
    "\n",
    "response = requests.get(reverse_geocoding_api_url, params=params)"
   ]
  },
  {
   "cell_type": "code",
   "execution_count": 2,
   "metadata": {},
   "outputs": [
    {
     "name": "stdout",
     "output_type": "stream",
     "text": [
      "200\n",
      "----------------\n",
      "b'[{\"name\":\"Crostwitz - Chr\\xc3\\xb3s\\xc4\\x87icy\",\"local_names\":{\"de\":\"Crostwitz\"},\"lat\":51.2382996,\"lon\":14.2452872,\"country\":\"DE\",\"state\":\"Saxony\"}]'\n",
      "----------------\n"
     ]
    },
    {
     "data": {
      "text/plain": [
       "[{'name': 'Crostwitz - Chrósćicy',\n",
       "  'local_names': {'de': 'Crostwitz'},\n",
       "  'lat': 51.2382996,\n",
       "  'lon': 14.2452872,\n",
       "  'country': 'DE',\n",
       "  'state': 'Saxony'}]"
      ]
     },
     "execution_count": 2,
     "metadata": {},
     "output_type": "execute_result"
    }
   ],
   "source": [
    "# zopakujeme stejný postup, jaku u předchozích příkladů \n",
    "\n",
    "print(response.status_code)\n",
    "print(\"----------------\")\n",
    "print(response.content)\n",
    "print(\"----------------\")\n",
    "data = json.loads(response.content)\n",
    "data"
   ]
  },
  {
   "cell_type": "code",
   "execution_count": 13,
   "metadata": {},
   "outputs": [
    {
     "data": {
      "text/plain": [
       "('Nižbor', 'CZ')"
      ]
     },
     "execution_count": 13,
     "metadata": {},
     "output_type": "execute_result"
    }
   ],
   "source": [
    "# nyní již můžeme zjistit, jak se jmenuje místo, jehož souřadnice jsme uvedli v HTTP dotazu na reverse geocoding API\n",
    "\n",
    "data[0][\"name\"], data[0][\"country\"]"
   ]
  },
  {
   "cell_type": "markdown",
   "metadata": {},
   "source": [
    "<h1>Cvičení 2</h1>\n",
    "\n",
    "Vytvořte program, který se zeptá uživatele na místo, které bude moci zadat jako souřadnice nebo jako název místa (co zadá musí program poznat sám). Následně mu bude vypsán buď název nebo souřadnice (v závislosti na tom, co zadal) a korespondující počasí s identickými údaji, jako v předchozím cvičení. Údaje by navíc měli být popsané identifikátorem údaje a odděleny prázdným řádkem. "
   ]
  },
  {
   "cell_type": "code",
   "execution_count": null,
   "metadata": {},
   "outputs": [],
   "source": [
    "# místo pro Váš kód"
   ]
  },
  {
   "cell_type": "markdown",
   "metadata": {},
   "source": [
    "<h1>Vzorové řešení 2</h1>"
   ]
  },
  {
   "cell_type": "code",
   "execution_count": 38,
   "metadata": {},
   "outputs": [
    {
     "name": "stdout",
     "output_type": "stream",
     "text": [
      "Latitude: 49.999953, Longtitude: 14.0023688\n",
      "\n",
      "Description: overcast clouds\n",
      "\n",
      "Temperature: 22.72 °C\n",
      "\n",
      "Wind speed: 12.82 km/h\n",
      "\n"
     ]
    }
   ],
   "source": [
    "# spusťte pro kontrolu funkctionality\n",
    "\n",
    "import json\n",
    "import requests\n",
    "from decouple import config\n",
    "\n",
    "KEY = config('USER_KEY')\n",
    "\n",
    "def geocode_reverse(_values, _params):\n",
    "    direct_geocoding_api_url = \"http://api.openweathermap.org/geo/1.0/reverse\"\n",
    "    params = _params.copy()\n",
    "    params[\"lat\"] = _values[0]\n",
    "    params[\"lon\"] = _values[1]\n",
    "    response = requests.get(direct_geocoding_api_url, params=params)\n",
    "    return json.loads(response.content) if response.status_code == 200 else print(\"Uknown error when sending reverse geocoding request\")\n",
    "\n",
    "def geocode_direct(_values, _params):\n",
    "    reverse_geocoding_api_url = \"http://api.openweathermap.org/geo/1.0/direct\"\n",
    "    params = _params.copy()\n",
    "    params[\"q\"] = f\"{_values[0]},{_values[1]}\"\n",
    "    response = requests.get(reverse_geocoding_api_url, params=params)\n",
    "    return json.loads(response.content) if response.status_code == 200 else print(\"Uknown error when sending direct geocoding request\")\n",
    "\n",
    "def parse_weather_data(lat_lon, params):\n",
    "    weather_api_url = \"https://api.openweathermap.org/data/2.5/weather\"\n",
    "    params[\"lat\"], params[\"lon\"] = lat_lon\n",
    "    response = requests.get(weather_api_url, params=params)\n",
    "    return json.loads(response.content) if response.status_code == 200 else print(\"Uknown error when sending weather data request\")\n",
    "       \n",
    "def get_user_input():\n",
    "    input_val = input(\"Enter your desired location either as lat,lon or city,country\")\n",
    "    input_val = input_val.split(\",\")\n",
    "    values = []\n",
    "    try:\n",
    "        for val in input_val:\n",
    "          values.append(float(val))  \n",
    "    except ValueError:\n",
    "        for val in input_val:\n",
    "            values.append(str(val))\n",
    "    return values \n",
    "\n",
    "\n",
    "def parse_data(_values):\n",
    "    params = {\"APPID\": KEY}\n",
    "    display_name = None\n",
    "    if isinstance(_values[0],float):\n",
    "        geo_data = geocode_reverse(_values, params)\n",
    "        display_name = f'City: {data[0][\"name\"]}, Country: {data[0][\"country\"]}'\n",
    "    else:\n",
    "        geo_data = geocode_direct(_values, params)\n",
    "        display_name = f'Latitude: {data[0][\"lat\"]}, Longtitude: { data[0][\"lon\"]}'\n",
    "    lat_lon = [data[0][\"lat\"], data[0][\"lon\"]]\n",
    "    weather_data = parse_weather_data(lat_lon, params)\n",
    "    return display_name, weather_data\n",
    "\n",
    "def extract_weather(data):\n",
    "    desc = data[\"weather\"][0][\"description\"]\n",
    "    temp_raw = data[\"main\"][\"temp\"] - 273.15\n",
    "    wind_raw = data[\"wind\"][\"speed\"] * 3.6\n",
    "    temp = str(round(temp_raw, 2)) + \" °C\"\n",
    "    wind = str(round(wind_raw, 2)) + \" km/h\"\n",
    "    return [f\"Description: {desc}\",f\"Temperature: {temp}\", f\"Wind speed: {wind}\"]\n",
    "\n",
    "\n",
    "def print_all(_list):\n",
    "    for x in _list:\n",
    "        print(x + \"\\n\")\n",
    "\n",
    "\n",
    "def main():\n",
    "    values = get_user_input()\n",
    "    display_name, weather_data = parse_data(values)\n",
    "    to_print = extract_weather(weather_data)\n",
    "    to_print.insert(0, display_name)  \n",
    "    print_all(to_print)\n",
    "\n",
    "\n",
    "if __name__ == '__main__':\n",
    "    main()\n"
   ]
  }
 ],
 "metadata": {
  "kernelspec": {
   "display_name": "Python 3.9.13 ('.venv': venv)",
   "language": "python",
   "name": "python3"
  },
  "language_info": {
   "codemirror_mode": {
    "name": "ipython",
    "version": 3
   },
   "file_extension": ".py",
   "mimetype": "text/x-python",
   "name": "python",
   "nbconvert_exporter": "python",
   "pygments_lexer": "ipython3",
   "version": "3.9.13"
  },
  "orig_nbformat": 4,
  "vscode": {
   "interpreter": {
    "hash": "75c7752cd3e4e0b8cb8ce2b85d35b54f36e8987dd4c5abbf5d523d51770ba948"
   }
  }
 },
 "nbformat": 4,
 "nbformat_minor": 2
}
