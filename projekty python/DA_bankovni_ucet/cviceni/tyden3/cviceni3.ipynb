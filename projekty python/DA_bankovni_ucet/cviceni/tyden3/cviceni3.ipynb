{
 "cells": [
  {
   "cell_type": "markdown",
   "metadata": {},
   "source": [
    "<h1>Konstrukce dataframů/řad(Series) z nativních datových typů Pythonu a práce s formátem dat v dataframu</h1>"
   ]
  },
  {
   "cell_type": "code",
   "execution_count": 1,
   "metadata": {},
   "outputs": [],
   "source": [
    "import os\n",
    "import plotly.express as px\n",
    "import plotly.graph_objects as go\n",
    "import matplotlib.pyplot as plt\n",
    "import numpy as np\n",
    "import pandas as pd"
   ]
  },
  {
   "cell_type": "markdown",
   "metadata": {},
   "source": [
    "<h5>Objekty typu dataframe knihovny pandas lze vytvářet z nativních iterable-type (seznam, slovník) datových objektů pythonu</h5>"
   ]
  },
  {
   "cell_type": "code",
   "execution_count": null,
   "metadata": {},
   "outputs": [],
   "source": [
    "# metoda konstruktoru pd.DataFrame\n",
    "# dataframe ze seznamu\n",
    "\n",
    "counts = [45,6,90,232,1,5,23,13,87,51,135]\n",
    "df = pd.DataFrame(counts)\n",
    "df"
   ]
  },
  {
   "cell_type": "code",
   "execution_count": null,
   "metadata": {},
   "outputs": [],
   "source": [
    "# podobný postup pro objekt typu Series (pouze 1 dimenze)\n",
    "\n",
    "sr = pd.Series(counts)\n",
    "sr"
   ]
  },
  {
   "cell_type": "code",
   "execution_count": null,
   "metadata": {},
   "outputs": [],
   "source": [
    "# Series lze přejmenovat a indexovat vlastními hodnotami stejné délky jako data\n",
    "\n",
    "indices = [\"a\",\"b\",\"c\",\"d\",\"e\",\"f\",\"g\",\"h\",\"i\",\"j\",\"k\"]\n",
    "sr = pd.Series(counts,index=indices, name=\"My Counts\")\n",
    "sr"
   ]
  },
  {
   "cell_type": "markdown",
   "metadata": {},
   "source": [
    "<h5>Dataframy mohou být vytvářeny s konkrétními datovými typy (string, float, integer)</h5>"
   ]
  },
  {
   "cell_type": "code",
   "execution_count": null,
   "metadata": {},
   "outputs": [],
   "source": [
    "# vytvoříme dataframe s desetinnými čísly\n",
    "\n",
    "decimal_counts = [0.25,1.5,2.3,8.0,51.789,5.9,4.3]\n",
    "df = pd.DataFrame(decimal_counts)\n",
    "df"
   ]
  },
  {
   "cell_type": "code",
   "execution_count": null,
   "metadata": {},
   "outputs": [],
   "source": [
    "# například i jako stringy\n",
    "\n",
    "df = pd.DataFrame(decimal_counts, dtype=str)\n",
    "df\n"
   ]
  },
  {
   "cell_type": "code",
   "execution_count": null,
   "metadata": {},
   "outputs": [],
   "source": [
    "df[0][0], type(df[0][0])\n"
   ]
  },
  {
   "cell_type": "code",
   "execution_count": null,
   "metadata": {},
   "outputs": [],
   "source": [
    "# dtype lze explicitně nastavovat i pro objekt typu Series\n",
    "\n",
    "sr = pd.Series(decimal_counts, name=\"My Counts\", dtype=float)\n",
    "sr\n"
   ]
  },
  {
   "cell_type": "code",
   "execution_count": null,
   "metadata": {},
   "outputs": [],
   "source": [
    "# vedle standardní datových typů Pythonu lze využít i datové typy modulu numpy\n",
    "\n",
    "df = pd.DataFrame(decimal_counts, dtype=np.float32)\n",
    "df"
   ]
  },
  {
   "cell_type": "markdown",
   "metadata": {},
   "source": [
    "Více informací k datovým typům modulu numpy <https://numpy.org/doc/stable/user/basics.types.html>"
   ]
  },
  {
   "cell_type": "code",
   "execution_count": null,
   "metadata": {},
   "outputs": [],
   "source": [
    "# 2d seznam jako dataframe, seznam counts z předchozí buňky\n",
    "# všimněte si, že Pandas chápe dva seznamy jako jednotlivé sloupce spíše než řádky\n",
    "\n",
    "classes = [1,2,5,3,6,4,7,8,9,10,0]\n",
    "counts_classes = [counts,classes]\n",
    "df = pd.DataFrame(counts_classes)\n",
    "df"
   ]
  },
  {
   "cell_type": "code",
   "execution_count": null,
   "metadata": {},
   "outputs": [],
   "source": [
    "# pro sémanticky správný výsledek musíme tedy vytvořit seznam dvojic prvků z obou předchozích seznamů metodou zip()\n",
    "\n",
    "df = pd.DataFrame(zip(counts,classes))\n",
    "df"
   ]
  },
  {
   "cell_type": "code",
   "execution_count": null,
   "metadata": {},
   "outputs": [],
   "source": [
    "# sloupce můžeme pojmenovat pomocí parametru columns\n",
    "\n",
    "df = pd.DataFrame(zip(counts, classes), columns=[\"count\", \"class\"])\n",
    "df"
   ]
  },
  {
   "cell_type": "code",
   "execution_count": null,
   "metadata": {},
   "outputs": [],
   "source": [
    "# i zde je možné vlastními hodnotami indexovat (použijeme seznam classes z předchozích buněk)\n",
    "\n",
    "df = pd.DataFrame(counts,index=classes, columns=[\"counts\"])\n",
    "df"
   ]
  },
  {
   "cell_type": "markdown",
   "metadata": {},
   "source": [
    "<h5>Výše uvedené způsoby fungují i s objekty typu set (množina) a tuple (n-tice). Konvence pro zachování sémantiky (2d seznamy) platí stejně.</h5>"
   ]
  },
  {
   "cell_type": "code",
   "execution_count": null,
   "metadata": {},
   "outputs": [],
   "source": [
    "# přetypování counts na množinu metodou set()\n",
    "\n",
    "df = pd.DataFrame(set(counts),columns=[\"counts\"])\n",
    "df"
   ]
  },
  {
   "cell_type": "code",
   "execution_count": null,
   "metadata": {},
   "outputs": [],
   "source": [
    "# přetypování na tuple\n",
    "\n",
    "df = pd.DataFrame(tuple(zip(counts, classes)))\n",
    "df"
   ]
  },
  {
   "cell_type": "markdown",
   "metadata": {},
   "source": [
    "<h5>Zdaleka nejčastěji se však dataframy tvoří z Python slovníků (dictionary)</h5>"
   ]
  },
  {
   "cell_type": "code",
   "execution_count": null,
   "metadata": {},
   "outputs": [],
   "source": [
    "# dataframe ze slovníku\n",
    "\n",
    "schedule = {\"Person\":[\"Jan\",\"Vaclav\",\"Otakar\",\"Krystof\",\"Jindrich\",\"Martin\"],\n",
    "            \"Day of week\":[\"Monday\",\"Tuesday\",\"Wednesday\",\"Thursday\",\"Friday\",\"Sunday\"]} \n",
    "\n",
    "df = pd.DataFrame(schedule)\n",
    "df"
   ]
  },
  {
   "cell_type": "code",
   "execution_count": null,
   "metadata": {},
   "outputs": [],
   "source": [
    "# k předchozímu dataframu přidáme ještě sloupec (výsledná data si lze představit jako např. který z učitelů bude na katedře v daný den)\n",
    "\n",
    "departments = [\"Economy\",\"History\",\"Mathematics\",\"Psychology\",\"Cybernetics\",\"Computer science\"]\n",
    "schedule[\"Department\"] = departments # pro ukázku nám nevadí odkaz na stejný objekt v paměti\n",
    "df = pd.DataFrame(schedule)\n",
    "df"
   ]
  },
  {
   "cell_type": "code",
   "execution_count": null,
   "metadata": {},
   "outputs": [],
   "source": [
    "# i zde funguje parametr columns, avšak ve významu které z klíčů slovníku budou ve výsledném dataframu tvořit sloupce (výchozí chování volí všechny)\n",
    "\n",
    "df = pd.DataFrame(schedule, columns=[\"Person\",\"Department\"])\n",
    "df"
   ]
  },
  {
   "cell_type": "code",
   "execution_count": null,
   "metadata": {},
   "outputs": [],
   "source": [
    "# podobně jako předchozích ukázek můžeme indexovat vlastními hodnotami, např. sloupcem Day of week\n",
    "\n",
    "df = pd.DataFrame(schedule, index=schedule[\"Day of week\"], columns=[\"Person\", \"Department\"])\n",
    "df"
   ]
  },
  {
   "cell_type": "code",
   "execution_count": null,
   "metadata": {},
   "outputs": [],
   "source": [
    "# indexováním pak získáme hodnotu\n",
    "\n",
    "df[\"Person\"][\"Monday\"]"
   ]
  },
  {
   "cell_type": "markdown",
   "metadata": {},
   "source": [
    "<h5>Pandas dataframe lze vytvořit i datového typu Numpy array (numpy pole), který je preferovaný pro práci s velkými numerickými daty</5>"
   ]
  },
  {
   "cell_type": "code",
   "execution_count": null,
   "metadata": {},
   "outputs": [],
   "source": [
    "# jednorozměrný numpy array\n",
    "my_vector = np.array([1,6,8,7,2,7,5,3,8,9])\n",
    "\n",
    "df = pd.DataFrame(my_vector, columns=[\"Coordinates\"])\n",
    "df"
   ]
  },
  {
   "cell_type": "code",
   "execution_count": null,
   "metadata": {},
   "outputs": [],
   "source": [
    "# jednorozměrný numpy array s vlastním indexem také typu numpy array\n",
    "my_vector = np.array([1, 6, 8, 7, 2, 7, 5, 3, 8, 9])\n",
    "indices = np.array([89,90,91,92,93,94,95,96,97,98])\n",
    "\n",
    "df = pd.DataFrame(my_vector, index=indices,columns=[\"Coordinates\"])\n",
    "df\n"
   ]
  },
  {
   "cell_type": "code",
   "execution_count": null,
   "metadata": {},
   "outputs": [],
   "source": [
    "# dvourozměrný numpy array\n",
    "matrix_of_vectors = np.array([[1, 6, 8, 7, 2, 7, 5, 3, 8, 9], [1, 0, 3, 0, 0, 7, 16, 3, 22, 9], [5, 6, 2, -1, 2, 7, -9, 3, 0, 0]])\n",
    "df = pd.DataFrame(matrix_of_vectors)\n",
    "df"
   ]
  },
  {
   "cell_type": "code",
   "execution_count": null,
   "metadata": {},
   "outputs": [],
   "source": [
    "# analogická práce s názvy sloupců a indexy\n",
    "\n",
    "columns = [f\"B{x+1}\" for x in range(10)]\n",
    "indices = [\"x\",\"y\",\"z\"]\n",
    "df = pd.DataFrame(matrix_of_vectors, index=indices, columns=columns)\n",
    "df"
   ]
  },
  {
   "cell_type": "code",
   "execution_count": null,
   "metadata": {},
   "outputs": [],
   "source": [
    "# alternativní metoda from_dict() má výhodu v možnosti nastavení orientace dat \n",
    "\n",
    "df = pd.DataFrame.from_dict(schedule,orient=\"index\")\n",
    "df"
   ]
  }
 ],
 "metadata": {
  "kernelspec": {
   "display_name": "venv",
   "language": "python",
   "name": "python3"
  },
  "language_info": {
   "codemirror_mode": {
    "name": "ipython",
    "version": 3
   },
   "file_extension": ".py",
   "mimetype": "text/x-python",
   "name": "python",
   "nbconvert_exporter": "python",
   "pygments_lexer": "ipython3",
   "version": "3.10.9 (main, Dec 15 2022, 10:44:50) [Clang 14.0.0 (clang-1400.0.29.202)]"
  },
  "orig_nbformat": 4,
  "vscode": {
   "interpreter": {
    "hash": "2b52233c30416fbc13c2adb0327188b9dda534945cffcec95263c88a006df380"
   }
  }
 },
 "nbformat": 4,
 "nbformat_minor": 2
}
