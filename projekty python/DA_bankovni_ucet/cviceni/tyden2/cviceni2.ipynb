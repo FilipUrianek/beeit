{
 "cells": [
  {
   "cell_type": "markdown",
   "metadata": {},
   "source": [
    "<h1>Numerická práce s dataframy, výpočet hodnot a statistik</h1>"
   ]
  },
  {
   "cell_type": "code",
   "execution_count": 1,
   "metadata": {},
   "outputs": [],
   "source": [
    "import pandas as pd\n",
    "import numpy as np\n",
    "import matplotlib.pyplot as plt\n",
    "import plotly.graph_objects as go\n",
    "import plotly.express as px\n",
    "import os"
   ]
  },
  {
   "cell_type": "code",
   "execution_count": null,
   "metadata": {},
   "outputs": [],
   "source": [
    "df_csob = pd.read_excel(os.path.join(\"dataset\", \"csob.xls\"))\n",
    "df_csob"
   ]
  },
  {
   "cell_type": "code",
   "execution_count": null,
   "metadata": {},
   "outputs": [],
   "source": [
    "df_sporitelna = pd.read_csv(os.path.join(\"dataset\", \"sporitelna.csv\"),\n",
    "                            delimiter=';',\n",
    "                            decimal=\",\")\n",
    "df_sporitelna"
   ]
  },
  {
   "cell_type": "markdown",
   "metadata": {},
   "source": [
    "<h5>Nahrazení chybějících hodnot</h5>\n",
    "\n",
    "V obou tabulkách můžeme vidět velké množství hodnot NaN (not a number), které reprezentují prázdné buňky tabulky. <br>\n",
    "\n",
    "Knihovna pandas nabízí metodu, pomocí které lze tyto chybějící hodnoty nahradit libovolnou hodnotou (číselnou či textem): <br>\n",
    "\n",
    "`pd.DataFrame.fillna()`\n",
    "<https://pandas.pydata.org/docs/reference/api/pandas.DataFrame.fillna.html>\n"
   ]
  },
  {
   "cell_type": "code",
   "execution_count": null,
   "metadata": {},
   "outputs": [],
   "source": [
    "# nahrazení NaN slovy \"Neni dostupne\"\n",
    "\n",
    "df_sporitelna.fillna(\"Neni dostupne\", inplace=True)\n",
    "df_sporitelna"
   ]
  },
  {
   "cell_type": "markdown",
   "metadata": {},
   "source": [
    "<h5>Práce s časovými daty</h5>\n",
    "\n",
    "Modul pandas obsahuje vlastní Datetime objekt (různý od standardního Pythonového datetime) a řadu metod, pomocí kterých lze s datetime objekty pracovat a upravovat je"
   ]
  },
  {
   "cell_type": "code",
   "execution_count": null,
   "metadata": {},
   "outputs": [],
   "source": [
    "# naše dataframy obsahují sloupec s daty korelující k pohybům na účtech, ve většině případů dokáže modul Pandas časová data najít a správně převést na objekt typu Datetime\n",
    "\n",
    "df_csob[\"date of posting\"]"
   ]
  },
  {
   "cell_type": "code",
   "execution_count": null,
   "metadata": {},
   "outputs": [],
   "source": [
    "df_csob[\"date of posting\"][13]"
   ]
  },
  {
   "cell_type": "code",
   "execution_count": null,
   "metadata": {},
   "outputs": [],
   "source": [
    "# z objektu typu Pandas timestamp můžeme získavat jednotlivé informace jako den, měsíc a rok, případně hodiny, minuty a sekundy pokud jsou specifikovány\n",
    "\n",
    "print(df_csob[\"date of posting\"][13].day_name())\n",
    "print(df_csob[\"date of posting\"][13].day)\n",
    "print(df_csob[\"date of posting\"][13].month_name())\n",
    "print(df_csob[\"date of posting\"][13].month)\n",
    "print(df_csob[\"date of posting\"][13].year)"
   ]
  },
  {
   "cell_type": "code",
   "execution_count": null,
   "metadata": {},
   "outputs": [],
   "source": [
    "# pomocí timestampů můžeme v dataframu chytře vyhledávat - klíčové slovo nemusí být stejné jako zobrazené datum, stačí aby mělo stejný (časový) význam\n",
    "\n",
    "df_csob[(df_csob[\"date of posting\"] >= '1 Jul 2022'\n",
    "         ) & (df_csob[\"date of posting\"] < '15.07.2022')]"
   ]
  },
  {
   "cell_type": "code",
   "execution_count": 9,
   "metadata": {},
   "outputs": [],
   "source": [
    "# Pandas dokáže k jednotlivým timestampům uchovávat informace o časovém pásmu\n",
    "\n",
    "localized_stamp = pd.Timestamp(df_csob[\"date of posting\"][13], tz=\"CET\")"
   ]
  },
  {
   "cell_type": "code",
   "execution_count": null,
   "metadata": {},
   "outputs": [],
   "source": [
    "localized_stamp.tz"
   ]
  },
  {
   "cell_type": "code",
   "execution_count": null,
   "metadata": {},
   "outputs": [],
   "source": [
    "# Pandas Datetime je možné využít jako speciální typ indexu - DatetimeIndex, kerý nám umožní s dataframem jednoduše manipulovat pomocí dat a časů\n",
    "\n",
    "df_csob.set_index(pd.DatetimeIndex(df_csob[\"date of posting\"]),inplace=True, drop=True)\n",
    "df_csob"
   ]
  },
  {
   "cell_type": "code",
   "execution_count": null,
   "metadata": {},
   "outputs": [],
   "source": [
    "# filtrování dataframu na základě časového intervalu jako indexů\n",
    "\n",
    "df_csob.loc[\"28/6/2022\":\"7/7/2022\"]"
   ]
  },
  {
   "cell_type": "code",
   "execution_count": null,
   "metadata": {},
   "outputs": [],
   "source": [
    "# filtrace dataframu na základě typu timestampu - např. poslední týden (week)\n",
    "\n",
    "df_csob.sort_index().last(\"W\")"
   ]
  },
  {
   "cell_type": "markdown",
   "metadata": {},
   "source": [
    "<h5>Výpočetní operace se sloupci</h5>\n",
    "\n",
    "Objekt typu Pandas dataframe umožňuje výpočetní operace na sloupcích po jednotlivých hodnotách bez nutnosti cyklů či iterativního postupu"
   ]
  },
  {
   "cell_type": "code",
   "execution_count": null,
   "metadata": {},
   "outputs": [],
   "source": [
    "# V našem výpisu z účtu bychom rádi viděli, jak by vypadaly naše výdaje v amerických dolarech, převedeme tedy částky dělením \n",
    "\n",
    "dollar_value = 25.40 #23.9.2022\n",
    "df_sporitelna_usd = df_sporitelna.copy(deep=True)\n",
    "df_sporitelna_usd[\"Castka\"] = round(df_sporitelna_usd[\"Castka\"]/dollar_value,2) # zaokrouhlíme kvůli přehlednosti\n",
    "df_sporitelna_usd"
   ]
  },
  {
   "cell_type": "code",
   "execution_count": 15,
   "metadata": {},
   "outputs": [],
   "source": [
    "# Nyní musíme však přeznačit měnu částky, můžeme tedy hodnoty celého sloupce převést na americký dolar a to několika způsoby\n",
    "# Pro zkoušku vytvořte novou kopii df_sporitelna_usd spuštěním předchozí buňky a pak příslušného způsobu\n",
    "\n",
    "dollar_code = \"USD\""
   ]
  },
  {
   "cell_type": "code",
   "execution_count": null,
   "metadata": {},
   "outputs": [],
   "source": [
    "# způsob 1: nejjednodušší přiřazením hodnoty sloupci\n",
    "\n",
    "df_sporitelna_usd[\"Mena\"] = dollar_code\n",
    "df_sporitelna_usd"
   ]
  },
  {
   "cell_type": "code",
   "execution_count": null,
   "metadata": {},
   "outputs": [],
   "source": [
    "# způsob 2: pomocí metody df.loc()\n",
    "\n",
    "df_sporitelna_usd.loc[:, \"Mena\"] = dollar_code\n",
    "df_sporitelna_usd"
   ]
  },
  {
   "cell_type": "code",
   "execution_count": null,
   "metadata": {},
   "outputs": [],
   "source": [
    "# způsob 3: pomocí metody df.assign()\n",
    "\n",
    "df_sporitelna_usd.assign(Mena=dollar_code)"
   ]
  },
  {
   "cell_type": "code",
   "execution_count": null,
   "metadata": {},
   "outputs": [],
   "source": [
    "# podobně můžeme provádět velké množství výpočetních operací se sloupci, které model pandas provede pro každý prvek zvlášť\n",
    "# příklad na novém dataframu ze slovníku s mocninami 2\n",
    "\n",
    "powers_of_two = {\"N\":[x for x in range(10)],\"Power of 2\":[np.power(2,y) for y in range(10)]}\n",
    "powers_of_two = pd.DataFrame(powers_of_two)\n",
    "powers_of_two.set_index(\"N\",inplace=True)\n",
    "powers_of_two"
   ]
  },
  {
   "cell_type": "code",
   "execution_count": null,
   "metadata": {},
   "outputs": [],
   "source": [
    "# výpočty provádíme pomocí knihovny numpy, se kterou je modul Pandas kompatibilní (například nativní modul Pythonu math nemusí správně pochopit hodnoty Dataframu)\n",
    "\n",
    "powers_of_two[\"Square root\"] = np.sqrt(powers_of_two[\"Power of 2\"])\n",
    "powers_of_two[\"Log10\"] = np.log10(powers_of_two[\"Power of 2\"])\n",
    "powers_of_two"
   ]
  },
  {
   "cell_type": "code",
   "execution_count": null,
   "metadata": {},
   "outputs": [],
   "source": [
    "# na sloupcích můžeme provádět výpočty i vzájemně\n",
    "\n",
    "powers_of_two[\"Sum of all\"] = powers_of_two.sum(axis=1)\n",
    "powers_of_two[\"N-th root\"] = np.power(powers_of_two[\"Power of 2\"][1:],1/powers_of_two.index.values[1:])\n",
    "powers_of_two"
   ]
  },
  {
   "cell_type": "markdown",
   "metadata": {},
   "source": [
    "<h5>Měnit lze i jednotlivé hodnoty dataframu"
   ]
  },
  {
   "cell_type": "code",
   "execution_count": null,
   "metadata": {},
   "outputs": [],
   "source": [
    "# změna hodnoty pomocí metody loc()\n",
    "\n",
    "df_sporitelna.loc[11,\"Název protiuctu\"]"
   ]
  },
  {
   "cell_type": "code",
   "execution_count": null,
   "metadata": {},
   "outputs": [],
   "source": [
    "df_sporitelna.loc[11,\"Název protiuctu\"] = \"VCELA ZDENEK\"\n",
    "df_sporitelna.loc[11,\"Název protiuctu\"]"
   ]
  },
  {
   "cell_type": "code",
   "execution_count": null,
   "metadata": {},
   "outputs": [],
   "source": [
    "# podobným způsobem jako u sloupců s nimi počítat a přidávat nové hodnoty\n",
    "\n",
    "powers_of_two.loc[10, \"Power of 2\"] = powers_of_two.loc[9, \"Power of 2\"]*2\n",
    "powers_of_two"
   ]
  },
  {
   "cell_type": "markdown",
   "metadata": {},
   "source": [
    "<h5>Výpočet základních statistik částí dataframu</h5>"
   ]
  },
  {
   "cell_type": "code",
   "execution_count": null,
   "metadata": {},
   "outputs": [],
   "source": [
    "# metoda vypisující základní statistiky všech numerických sloupců ve zdrojovém dataframu formou nového dataframu\n",
    "\n",
    "df_stats = df_csob.describe()\n",
    "df_stats\n",
    "\n",
    "# samozřejmě nedává smysl počítat statistiky pro čisla účtů či konstantní symboly, pandas je pouze vidí jako numerické hodnoty"
   ]
  },
  {
   "cell_type": "code",
   "execution_count": null,
   "metadata": {},
   "outputs": [],
   "source": [
    "# výpočet můžeme provádět i po jednotlivých sloupcích pomocí vestavěných metod modulu pandas\n",
    "\n",
    "# průměr\n",
    "df_csob[\"amount\"].mean()"
   ]
  },
  {
   "cell_type": "code",
   "execution_count": null,
   "metadata": {},
   "outputs": [],
   "source": [
    "# směrodatná odchylka\n",
    "df_csob[\"deposit\"].std()"
   ]
  },
  {
   "cell_type": "code",
   "execution_count": null,
   "metadata": {},
   "outputs": [],
   "source": [
    "# kvantil 0.9\n",
    "df_sporitelna[\"Castka\"].quantile(q=0.9)"
   ]
  },
  {
   "cell_type": "code",
   "execution_count": null,
   "metadata": {},
   "outputs": [],
   "source": [
    "# produkt (součin) všech hodnot\n",
    "df_sporitelna[\"Castka\"].prod()"
   ]
  },
  {
   "cell_type": "code",
   "execution_count": null,
   "metadata": {},
   "outputs": [],
   "source": [
    "# minimum, maximum\n",
    "df_csob[\"deposit\"].max(), df_csob[\"deposit\"].min()"
   ]
  },
  {
   "cell_type": "markdown",
   "metadata": {},
   "source": [
    "Více o konkrétních statistikách dostupých v pandas na: <https://pandas.pydata.org/docs/user_guide/basics.html#basics-stats>"
   ]
  },
  {
   "cell_type": "code",
   "execution_count": null,
   "metadata": {},
   "outputs": [],
   "source": [
    "# na pandas dataframu lze použít i statistiky z modulu Numpy\n",
    "\n",
    "# rozsah hodnot (max - min)\n",
    "np.ptp(df_csob[\"deposit\"])"
   ]
  },
  {
   "cell_type": "code",
   "execution_count": null,
   "metadata": {},
   "outputs": [],
   "source": [
    "# percentil 50\n",
    "np.percentile(df_csob[\"amount\"],q=0.5)"
   ]
  },
  {
   "cell_type": "markdown",
   "metadata": {},
   "source": [
    "Více o statistikách v modulu Numpy: <https://numpy.org/doc/stable/reference/routines.statistics.html>"
   ]
  },
  {
   "cell_type": "markdown",
   "metadata": {},
   "source": [
    "<h5>Pro účely rychlé grafické analýzy spolupracuje modul Pandas s knihovnou matplotlib, která umožňuje grafování hodnot pomocí metody plot</h5>"
   ]
  },
  {
   "cell_type": "code",
   "execution_count": null,
   "metadata": {},
   "outputs": [],
   "source": [
    "# základní čárový graf\n",
    "df_csob.plot(y=[\"amount\",\"deposit\"])"
   ]
  },
  {
   "cell_type": "code",
   "execution_count": null,
   "metadata": {},
   "outputs": [],
   "source": [
    "# grafu lze jednoduše měnit názvy os apod.\n",
    "df_csob.plot(y=\"deposit\", use_index=True, kind=\"line\",figsize=(8,5), title=\"Deposit over time\", xlabel=\"Date\",ylabel=\"Deposit in CZK\")"
   ]
  },
  {
   "cell_type": "code",
   "execution_count": null,
   "metadata": {},
   "outputs": [],
   "source": [
    "# bar plot\n",
    "df_csob.plot(y=\"amount\", xticks=[], use_index=True, kind=\"bar\",figsize=(8,5), title=\"Deposit over time\", xlabel=\"Date\",ylabel=\"Deposit in CZK\")"
   ]
  },
  {
   "cell_type": "code",
   "execution_count": null,
   "metadata": {},
   "outputs": [],
   "source": [
    "# další typy grafů z dataframu powers_of_two\n",
    "# scatter plot\n",
    "powers_of_two.plot(y=\"Power of 2\", x=\"Square root\", kind=\"scatter\")"
   ]
  },
  {
   "cell_type": "code",
   "execution_count": null,
   "metadata": {},
   "outputs": [],
   "source": [
    "# další typy grafů z dataframu powers_of_two\n",
    "# horizontal bar plot\n",
    "powers_of_two.plot(y=\"Power of 2\", kind=\"barh\")"
   ]
  },
  {
   "cell_type": "markdown",
   "metadata": {},
   "source": [
    "<h5>Cvičení 2: vytvořte program, který spočítá statistiky smysluplných hodnot z dataframů (pohyby, zůstatek) a vhodně je porovná/vizualizuje v grafech (např. jak vypadá medián pohybů na účtu ČSOB vs. na účtu Č. Spořitelny ve sloupcovém grafu)</h5>\n",
    "\n",
    "Tentokrát k vizualiaci využijte knihovnu matplotlib. Hodnoty ČSOB vyznačte modře, Spořitelnu červeně a z každé statistiky vytvořte samostatný graf\n",
    "\n",
    "Potřebná dokumentace:\n",
    "<br>\n",
    "\n",
    "<https://matplotlib.org/stable/gallery/index>\n",
    "<br>\n",
    "\n",
    "<https://matplotlib.org/stable/gallery/lines_bars_and_markers/bar_colors.html#sphx-glr-gallery-lines-bars-and-markers-bar-colors-py>\n",
    "<br>\n",
    "\n",
    "Statistické funkce z předchozích buněk a příkladů"
   ]
  },
  {
   "cell_type": "code",
   "execution_count": 85,
   "metadata": {},
   "outputs": [],
   "source": [
    "# místo pro váš kód"
   ]
  },
  {
   "cell_type": "code",
   "execution_count": null,
   "metadata": {},
   "outputs": [],
   "source": [
    "# vzorové řešení (spusťte pro kontrolu)\n",
    "\n",
    "def compute_stats(df,stats):\n",
    "    stat_dict = {}\n",
    "    for stat in stats:\n",
    "        stat_dict[stat[0]] = {\n",
    "        \"Mean\":np.mean(df[stat[1]]),\n",
    "        \"Median\": np.median(df[stat[1]]),\n",
    "        \"Min\": np.min(df[stat[1]]),\n",
    "        \"Max\": np.max(df[stat[1]]),\n",
    "           \n",
    "    }\n",
    "    return stat_dict\n",
    "\n",
    "def plot_stats(dfs, keys):\n",
    "    bar_colors = [\"blue\",\"red\"]\n",
    "    fig, ax = plt.subplots(nrows=2, ncols=4, figsize=(16,9))\n",
    "    dataframes = list(dfs.keys())\n",
    "    for stat in keys:\n",
    "        i = keys.index(stat)\n",
    "        stat_values = []\n",
    "        for df in dataframes:\n",
    "            try:\n",
    "                stat_values.append(list(dfs[df][\"stat_vals\"][stat].items()))\n",
    "            except:\n",
    "                stat_values.append([(0,0) for _ in range(4)])\n",
    "        \n",
    "        for j in range(4): # počet jednotlivých statistik které počítáme\n",
    "            ax[i][j].bar(dataframes, [val[j][1] for val in stat_values], color=bar_colors,width=0.5)\n",
    "            ax[i][j].set_title(f\"{stat} - {stat_values[0][j][0]}\")\n",
    "            \n",
    "    plt.subplots_adjust(wspace=0.4)\n",
    "\n",
    "    plt.show()\n",
    "    \n",
    "def main():\n",
    "    keys = [\"Movement\",\"Deposit\"]\n",
    "    dataframes = {\n",
    "        \"CSOB\": {\n",
    "            \"val\":df_csob,\n",
    "            \"stats\":[(\"Deposit\",\"deposit\"), (\"Movement\",\"amount\")],\n",
    "            \"stat_vals\":{}\n",
    "        },\n",
    "        \"Sporitelna\": {\n",
    "            \"val\": df_sporitelna,\n",
    "            \"stats\": [(\"Movement\", \"Castka\")],\n",
    "            \"stat_vals\": {}\n",
    "        }\n",
    "    }\n",
    "    for df in dataframes.keys():\n",
    "        dataframes[df][\"stat_vals\"] = compute_stats(\n",
    "            dataframes[df][\"val\"],\n",
    "            dataframes[df][\"stats\"],\n",
    "        )\n",
    "    plot_stats(dataframes,keys)\n",
    "    \n",
    "\n",
    "if __name__ == \"__main__\":\n",
    "    main()"
   ]
  },
  {
   "cell_type": "markdown",
   "metadata": {},
   "source": [
    "<h5>Pokuste se o interpretaci dat a jejich grafů</h5>\n",
    "\n",
    "Např. průměrné velikosti pohybů nám říkají, že na účtu Spořitelna jsou celkem vyrovnané, zatímco účet ČSOB má výrazně vyšší výdaje"
   ]
  }
 ],
 "metadata": {
  "kernelspec": {
   "display_name": "venv",
   "language": "python",
   "name": "python3"
  },
  "language_info": {
   "codemirror_mode": {
    "name": "ipython",
    "version": 3
   },
   "file_extension": ".py",
   "mimetype": "text/x-python",
   "name": "python",
   "nbconvert_exporter": "python",
   "pygments_lexer": "ipython3",
   "version": "3.10.9 (main, Dec 15 2022, 10:44:50) [Clang 14.0.0 (clang-1400.0.29.202)]"
  },
  "orig_nbformat": 4,
  "vscode": {
   "interpreter": {
    "hash": "2b52233c30416fbc13c2adb0327188b9dda534945cffcec95263c88a006df380"
   }
  }
 },
 "nbformat": 4,
 "nbformat_minor": 2
}
