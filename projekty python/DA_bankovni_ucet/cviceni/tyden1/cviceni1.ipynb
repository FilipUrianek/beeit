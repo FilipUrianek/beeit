{
 "cells": [
  {
   "cell_type": "markdown",
   "metadata": {},
   "source": [
    "<h1> Moduly pro datovou analýzu </h1>\n",
    "\n",
    "<p> Abychom mohli data v jazyce python analyzovat a provádět výpočty rychle a výpočetně efektivně, je zapotřebí nainstalovat a importovat několik klíčových modulů do našeho Jupyter notebooku</p>\n",
    "\n",
    "\n",
    "<h5>Výpočet statistik, funkcí a matematických operací s vysokým výkonem:</h5> \n",
    "Numpy\n",
    "\n",
    "<https://numpy.org/doc/stable>\n",
    "\n",
    "<h5>Tvorba, načítání a úprava dat v tabulkových formátech:</h5>\n",
    "Pandas\n",
    "\n",
    "<https://pandas.pydata.org/docs/>\n",
    "\n",
    "<h5>Vizualizace dat a tvorba grafů:</h5>\n",
    "\n",
    "Matplotlib (nejpopulárnější) \n",
    "<https://matplotlib.org/> \n",
    "<br>\n",
    "\n",
    "Plotly (verzatilnější):\n",
    "<br>\n",
    "\n",
    "Plotly Express (jednodušší grafy)\n",
    "<https://plotly.com/python-api-reference/plotly.express.html>\n",
    "<br>\n",
    "\n",
    "Plotly Graph Objects (složitější ale flexibilnější grafy a vizualizace)\n",
    "<https://plotly.com/python-api-reference/plotly.graph_objects.html>\n",
    "<br>"
   ]
  },
  {
   "cell_type": "code",
   "execution_count": 2,
   "metadata": {},
   "outputs": [],
   "source": [
    "import pandas as pd\n",
    "import numpy as np\n",
    "import matplotlib.pyplot as plt\n",
    "import plotly.graph_objects as go \n",
    "import plotly.express as px\n",
    "import os"
   ]
  },
  {
   "cell_type": "markdown",
   "metadata": {},
   "source": [
    "<h5>Prvním krokem bude tvorba datové struktury, tzv. Dataframu, který knihovna pandas využívá pro reprezentaci tabulkových dat</h5>\n",
    "\n",
    "Dataframe lze vytvořit několika způsoby, nejčastěji z Python dictionary, načtením CSV souboru či Excelové tabulky (.xls, .xslx). Podporované jsou například i SQL databáze.\n",
    "\n",
    "Více o dataframu: <https://pandas.pydata.org/docs/reference/frame.html>\n",
    "\n",
    "Více o I/O modulu pandas (načítání a ukládání souborů): <https://pandas.pydata.org/docs/reference/io.html>"
   ]
  },
  {
   "cell_type": "code",
   "execution_count": null,
   "metadata": {},
   "outputs": [],
   "source": [
    "my_dict = {\n",
    "   \"days\":[\"monday\",\"tuesday\",\"wednesday\",\"thursday\",\"friday\",\"saturday\",\"sunday\"],\n",
    "   \"hours_worked\":[8,9,11,7,6,2,0]\n",
    "}\n",
    "\n",
    "df_dict = pd.DataFrame.from_dict(my_dict)\n",
    "df_dict"
   ]
  },
  {
   "cell_type": "code",
   "execution_count": null,
   "metadata": {},
   "outputs": [],
   "source": [
    "df_csv = pd.read_csv(\"dataset/sample.csv\", usecols=[\"days\",\"hours_worked\"])\n",
    "df_csv"
   ]
  },
  {
   "cell_type": "code",
   "execution_count": null,
   "metadata": {},
   "outputs": [],
   "source": [
    "df_excel = pd.read_excel(\"dataset/sample.xlsx\",\n",
    "                         usecols=[\"days\", \"hours_worked\"])\n",
    "df_excel"
   ]
  },
  {
   "cell_type": "markdown",
   "metadata": {},
   "source": [
    "<h5>Cíl projektu</h5>\n",
    "\n",
    "Cílem práce je pomocí modulu Pandas načíst a upravit výpis pohybů na účtu z internetového bankovnictví, výpočítat statistiky pomocí modulu Numpy a vizualizovat data pomocí modulů Matplotlib a Plotly <br>\n",
    "\n",
    "Ve složce `dataset` se za tímto účelem nacházejí soubory `csob.xls` a `sporitelna.csv`"
   ]
  },
  {
   "cell_type": "code",
   "execution_count": null,
   "metadata": {},
   "outputs": [],
   "source": [
    "df_csob = pd.read_excel(os.path.join(\"dataset\", \"csob.xls\"))\n",
    "df_csob"
   ]
  },
  {
   "cell_type": "code",
   "execution_count": null,
   "metadata": {},
   "outputs": [],
   "source": [
    "df_sporitelna = pd.read_csv(os.path.join(\"dataset\", \"sporitelna.csv\"),\n",
    "                            delimiter=';', decimal=\",\")\n",
    "df_sporitelna"
   ]
  },
  {
   "cell_type": "markdown",
   "metadata": {},
   "source": [
    "<h5>Základní informace o Dataframu</h5>"
   ]
  },
  {
   "cell_type": "code",
   "execution_count": null,
   "metadata": {},
   "outputs": [],
   "source": [
    "# souhrn informací\n",
    "\n",
    "df_sporitelna.info()"
   ]
  },
  {
   "cell_type": "code",
   "execution_count": null,
   "metadata": {},
   "outputs": [],
   "source": [
    "# názvy všech neindexových sloupců\n",
    "\n",
    "df_sporitelna.columns"
   ]
  },
  {
   "cell_type": "code",
   "execution_count": null,
   "metadata": {},
   "outputs": [],
   "source": [
    "# index a jeho typ\n",
    "\n",
    "df_sporitelna.index"
   ]
  },
  {
   "cell_type": "markdown",
   "metadata": {},
   "source": [
    "<h5>Změna indexu dataframu</h5>\n",
    "\n",
    "Častým požadavkem je změna indexu dataframu z výchozích čísel například na datum a čas či vlastní číslování"
   ]
  },
  {
   "cell_type": "code",
   "execution_count": 12,
   "metadata": {},
   "outputs": [],
   "source": [
    "# změna indexu dataframu na cílovou hodnotu - v tomto případě přečíslujeme tak, aby dataframe začínal na řádku 1\n",
    "\n",
    "df_csob[\"Index\"] = [x+1 for x in range(len(df_csob))]\n",
    "df_sporitelna[\"Index\"] = [x + 1 for x in range(len(df_sporitelna))]\n",
    "\n",
    "df_csob = df_csob.set_index(\"Index\")\n",
    "df_sporitelna = df_sporitelna.set_index(\"Index\")"
   ]
  },
  {
   "cell_type": "code",
   "execution_count": null,
   "metadata": {},
   "outputs": [],
   "source": [
    "df_csob"
   ]
  },
  {
   "cell_type": "markdown",
   "metadata": {},
   "source": [
    "<h5>Získávání částí dataframu podle názvů sloupců a indexů</h5>"
   ]
  },
  {
   "cell_type": "code",
   "execution_count": null,
   "metadata": {},
   "outputs": [],
   "source": [
    "# data pouze z jednoho sloupce\n",
    "\n",
    "df_csob[\"amount\"]"
   ]
  },
  {
   "cell_type": "code",
   "execution_count": null,
   "metadata": {},
   "outputs": [],
   "source": [
    "# výsledný formát dat je Pandas Series, můžeme indexovat pro získání konkrétní hodnoty\n",
    "\n",
    "df_csob[\"amount\"][1]"
   ]
  },
  {
   "cell_type": "code",
   "execution_count": null,
   "metadata": {},
   "outputs": [],
   "source": [
    "# s daty můžeme dále pracovat, například vizualizovat v grafech - v tomto případě zůstatek na účtě \n",
    "\n",
    "px.line(y=df_csob[\"deposit\"], x=df_csob[\"date of posting\"], title=\"Zůstatek na účtě\")"
   ]
  },
  {
   "cell_type": "code",
   "execution_count": null,
   "metadata": {},
   "outputs": [],
   "source": [
    "# získávání hodnot řádků na základě numerických indexů (pozor, index běží od 0 do len(df)-1)\n",
    "\n",
    "df_sporitelna.iloc[6]"
   ]
  },
  {
   "cell_type": "code",
   "execution_count": null,
   "metadata": {},
   "outputs": [],
   "source": [
    "df_csob.iloc[[5,10]]"
   ]
  },
  {
   "cell_type": "code",
   "execution_count": null,
   "metadata": {},
   "outputs": [],
   "source": [
    "# získání konkrétní hodnoty\n",
    "\n",
    "df_csob.iloc[25][\"amount\"]"
   ]
  },
  {
   "cell_type": "code",
   "execution_count": null,
   "metadata": {},
   "outputs": [],
   "source": [
    "# také lze získat jednotlivé řádky podle konkrétní hodnoty v indexu (pokud jsou index písmena od a do z, lze podle každého vypsat řádek) - viz. porovnání s iloc\n",
    "\n",
    "df_sporitelna.loc[6]"
   ]
  },
  {
   "cell_type": "code",
   "execution_count": null,
   "metadata": {},
   "outputs": [],
   "source": [
    "df_sporitelna.loc[6][\"Název protiuctu\"]"
   ]
  },
  {
   "cell_type": "code",
   "execution_count": null,
   "metadata": {},
   "outputs": [],
   "source": [
    "# logické indexování pomocí boolean hodnot\n",
    "\n",
    "df_csob.index.isin([6,30,38])"
   ]
  },
  {
   "cell_type": "code",
   "execution_count": null,
   "metadata": {},
   "outputs": [],
   "source": [
    "# pomocí boolean hodnot s indexem shodným s původním Dataframem můžeme filtrovat a získat pouze požadovaná data\n",
    "\n",
    "df_csob[df_csob.index.isin([6, 30, 38])]"
   ]
  },
  {
   "cell_type": "code",
   "execution_count": null,
   "metadata": {},
   "outputs": [],
   "source": [
    "df_csob[df_csob.index.isin([30])][\"deposit\"]"
   ]
  },
  {
   "cell_type": "code",
   "execution_count": null,
   "metadata": {},
   "outputs": [],
   "source": [
    "# lze vyhledávat i v nečíselných hodnotách\n",
    "\n",
    "df_csob[\"marking the operation\"].isin([\"Outgoing instant payment\"])"
   ]
  },
  {
   "cell_type": "code",
   "execution_count": null,
   "metadata": {},
   "outputs": [],
   "source": [
    "df_csob[df_csob[\"marking the operation\"].isin([\"Outgoing instant payment\"])]"
   ]
  },
  {
   "cell_type": "code",
   "execution_count": null,
   "metadata": {},
   "outputs": [],
   "source": [
    "# získání konkrétní hodnoy podle názvu/vlastního indexu řádku a názvu sloupce\n",
    "\n",
    "df_sporitelna.at[26, \"Castka\"]"
   ]
  },
  {
   "cell_type": "code",
   "execution_count": null,
   "metadata": {},
   "outputs": [],
   "source": [
    "# podobně jako loc a iloc, lze získat i podle indexu řádku od 0 do len(dataframe)-1 a indexu sloupce podle stejného číslování od 0 do len(df.columns)-1\n",
    "\n",
    "df_sporitelna.iat[25, -2]"
   ]
  },
  {
   "cell_type": "markdown",
   "metadata": {},
   "source": [
    "<h5>Filtrování pomocí pravdivostních výroků</h5>\n",
    "\n",
    "Podobně jako metoda .isin vracející True/False můžeme získat boolean hodnoty výroku či podmínky týkající se sloupců Dataframu a pomocí nich vyfiltrovat řádky, které podmínky nesplňují"
   ]
  },
  {
   "cell_type": "code",
   "execution_count": null,
   "metadata": {},
   "outputs": [],
   "source": [
    "df_csob[\"amount\"] > 0.0"
   ]
  },
  {
   "cell_type": "code",
   "execution_count": null,
   "metadata": {},
   "outputs": [],
   "source": [
    "df_csob[df_csob[\"amount\"] > 0.0]"
   ]
  },
  {
   "cell_type": "code",
   "execution_count": null,
   "metadata": {},
   "outputs": [],
   "source": [
    "df_csob[df_csob[\"marking the operation\"] == \"Incoming payment\"]"
   ]
  },
  {
   "cell_type": "code",
   "execution_count": null,
   "metadata": {},
   "outputs": [],
   "source": [
    "# filtrovat můžeme podle více podmínek, mezi kterými rozhodne některý z logických operátorů and (&), or (|) nebo not (~), každá podmínka musí být v samostatné závorce kvůli pořadí, ve kterém je Python vyhodnocuje\n",
    "\n",
    "df_csob[(df_csob[\"amount\"] > 500.0) & (df_csob[\"marking the operation\"] == \"Incoming instant payment\")]"
   ]
  },
  {
   "cell_type": "markdown",
   "metadata": {},
   "source": [
    "<h5>Cvičení 1: vytvořte program, který z dataframu získá informace o pohybech na účtě a pro každý den spočítá jejich celkovou bilanci, jež pak vhodně vizualizuje ve sloupcovém grafu</h5>\n",
    "\n",
    "Výdaj vyznačte červeně, příjmy zeleně\n",
    "\n",
    "Potřebná dokumentace:\n",
    "<br>\n",
    "\n",
    "<https://plotly.com/python/bar-charts/>\n",
    "<br>\n",
    "\n",
    "<https://pandas.pydata.org/pandas-docs/stable/user_guide/indexing.html#boolean-indexing>\n"
   ]
  },
  {
   "cell_type": "code",
   "execution_count": 31,
   "metadata": {},
   "outputs": [],
   "source": [
    "# místo pro váš kód"
   ]
  },
  {
   "cell_type": "code",
   "execution_count": null,
   "metadata": {},
   "outputs": [],
   "source": [
    "# vzorové řešení (spusťte pro kontrolu)\n",
    "\n",
    "def parse_vals(df, time_col, val_col):\n",
    "    data_dict = {\"date\":[],\"in\":[],\"out\":[]}\n",
    "    df[time_col] = pd.to_datetime(df[time_col], infer_datetime_format=True)\n",
    "    for date in df[time_col].unique():\n",
    "        temp_df = df[df[time_col] == date]\n",
    "        data_dict[\"date\"].append(date)\n",
    "        data_dict[\"in\"].append(np.sum(temp_df[temp_df[val_col] > 0.0][val_col]))\n",
    "        data_dict[\"out\"].append(np.sum(temp_df[temp_df[val_col] < 0.0][val_col]))\n",
    "    return pd.DataFrame.from_dict(data_dict)\n",
    "\n",
    "def plot_vals(df,name):\n",
    "    df['date'] = df['date'].dt.strftime('%d/%m/%Y')\n",
    "    return px.bar(df,y=[\"in\",\"out\"], x=\"date\", barmode=\"group\",\n",
    "                  labels={\"value\": \"CZK\", \"variable\": \"Pohyb\", \"date\":\"Datum\"},\n",
    "             color_discrete_map={\"in\": \"green\", \"out\": \"red\"},\n",
    "             title=name)\n",
    "\n",
    "def main():\n",
    "    accounts = {\n",
    "        \"csob\":[df_csob,\"date of posting\",\"amount\",\"ČSOB\"],\n",
    "        \"sporitelna\":[df_sporitelna, \"Datum zauctovani\", \"Castka\", \"Česká spořitelna\"]\n",
    "    }\n",
    "    acc = input(\"Zadejte účet, ze kterého chcete vidět data (csob/sporitelna)\")\n",
    "    if not(acc in list(accounts.keys())):\n",
    "        print(\"Chyba - špatně zadaný účet\")\n",
    "    else:\n",
    "        df = parse_vals(accounts[acc][0], accounts[acc][1], accounts[acc][2])\n",
    "        fig = plot_vals(df, accounts[acc][-1])\n",
    "        fig.show()\n",
    "\n",
    "if __name__ == \"__main__\":\n",
    "    main()"
   ]
  },
  {
   "cell_type": "markdown",
   "metadata": {},
   "source": [
    "<h5>Do existujících dataframů můžeme vkládat i nové sloupce a řádky</h5>"
   ]
  },
  {
   "cell_type": "code",
   "execution_count": 34,
   "metadata": {},
   "outputs": [],
   "source": [
    "df_csob[\"amount\"] = df_csob[\"amount\"].astype(np.float32)"
   ]
  },
  {
   "cell_type": "code",
   "execution_count": null,
   "metadata": {},
   "outputs": [],
   "source": [
    "# nové sloupce, tyto sloupce pomocí bool hodnoty jednoduše indikují zda se jedná o výdaj či příjem\n",
    "\n",
    "df_csob[\"Income\"] = df_csob[\"amount\"] > 0.0\n",
    "df_csob[\"Expense\"] = df_csob[\"amount\"] < 0.0\n",
    "df_csob"
   ]
  },
  {
   "cell_type": "code",
   "execution_count": null,
   "metadata": {},
   "outputs": [],
   "source": [
    "# nový sloupec či sloupce lze k dataframu připojit pomocí metody join\n",
    "\n",
    "new_col = pd.Series([\"Expense\" if x else \"Income\" for x in df_csob[\"amount\"] < 0.0], name=\"Income/Expense\")\n",
    "df_csob.join(new_col)"
   ]
  },
  {
   "cell_type": "code",
   "execution_count": null,
   "metadata": {},
   "outputs": [],
   "source": [
    "# odstranění sloupců\n",
    "\n",
    "df_csob.drop([\"Income\",\"Expense\"],axis=1, inplace=True)\n",
    "df_csob"
   ]
  },
  {
   "cell_type": "code",
   "execution_count": null,
   "metadata": {},
   "outputs": [],
   "source": [
    "# nové řádky, provedeno formou konkatování (\"slepení\") dvou dataframů - původního dataframu a nového řádku\n",
    "\n",
    "new_line = {\"account no.\": [\"284622580/0300\"], \"date of posting\":[\"2022-09-01\"],\"amount\":[\"8000\"], \"currency\":[\"USD\"]}\n",
    "new_line = pd.DataFrame(new_line)\n",
    "\n",
    "df_csob = pd.concat([df_csob, new_line], ignore_index=True)\n",
    "df_csob"
   ]
  },
  {
   "cell_type": "code",
   "execution_count": null,
   "metadata": {},
   "outputs": [],
   "source": [
    "# odstranění řádku (stejnou metodou jako u sloupců)\n",
    "\n",
    "df_csob = df_csob.drop(79, axis=0)\n",
    "df_csob"
   ]
  },
  {
   "cell_type": "markdown",
   "metadata": {},
   "source": [
    "<h5>Slučování a připojování dataframů</h5>\n",
    "\n",
    "Modul pandas nabízí několik způsobů, jak dataframy spojit či sloučit do jednoho, a to na základě indexů či sloupců"
   ]
  },
  {
   "cell_type": "code",
   "execution_count": null,
   "metadata": {},
   "outputs": [],
   "source": [
    "# načteme si druhý výpis z účtu ČSOB\n",
    "\n",
    "df_csob2 = pd.read_excel(\"dataset/csob2.xls\")\n",
    "df_csob2"
   ]
  },
  {
   "cell_type": "code",
   "execution_count": null,
   "metadata": {},
   "outputs": [],
   "source": [
    "# připojení dataframů za sebe do jedné delší tabulky\n",
    "\n",
    "df_csob_complete = pd.concat([df_csob,df_csob2], axis=0, ignore_index=True)\n",
    "df_csob_complete"
   ]
  },
  {
   "cell_type": "code",
   "execution_count": null,
   "metadata": {},
   "outputs": [],
   "source": [
    "# spojování dataframů na ose x (ose 1) - přidávání sloupců pomocí metody join\n",
    "\n",
    "new_df = pd.DataFrame({\"Income/Expense\":[\"Expense\" if x else \"Income\" for x in df_csob2[\"amount\"] < 0.0], \"Custom code\":[1 if x else 0 for x in df_csob2[\"deposit\"] > 100000.0]},columns=[\"Income/Expense\",\"Custom code\"])\n",
    "df_csob2.join(new_df)"
   ]
  }
 ],
 "metadata": {
  "kernelspec": {
   "display_name": "venv",
   "language": "python",
   "name": "python3"
  },
  "language_info": {
   "codemirror_mode": {
    "name": "ipython",
    "version": 3
   },
   "file_extension": ".py",
   "mimetype": "text/x-python",
   "name": "python",
   "nbconvert_exporter": "python",
   "pygments_lexer": "ipython3",
   "version": "3.10.9"
  },
  "orig_nbformat": 4,
  "vscode": {
   "interpreter": {
    "hash": "2b52233c30416fbc13c2adb0327188b9dda534945cffcec95263c88a006df380"
   }
  }
 },
 "nbformat": 4,
 "nbformat_minor": 2
}
