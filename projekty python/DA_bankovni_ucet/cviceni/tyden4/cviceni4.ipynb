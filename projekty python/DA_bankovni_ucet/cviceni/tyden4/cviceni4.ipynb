{
 "cells": [
  {
   "cell_type": "markdown",
   "metadata": {},
   "source": [
    "<h1>Pandas I/O, práce se soubory, cestami a python argparse pro tvorbu kompletní aplikace pro automatizovanou datovou analýzu</h1>"
   ]
  },
  {
   "cell_type": "code",
   "execution_count": 1,
   "metadata": {},
   "outputs": [],
   "source": [
    "import os\n",
    "import plotly.express as px\n",
    "import plotly.graph_objects as go\n",
    "import matplotlib.pyplot as plt\n",
    "import numpy as np\n",
    "import pandas as pd"
   ]
  },
  {
   "cell_type": "markdown",
   "metadata": {},
   "source": [
    "<h5>Modul pandas má vestavěné nástroje pro export a načítání velkého množství datových formátů</h5>"
   ]
  },
  {
   "cell_type": "code",
   "execution_count": null,
   "metadata": {},
   "outputs": [],
   "source": [
    "# již známé načítání tabulek ve formátu Microsoft Excel\n",
    "# vyžaduje dodatečnou instalaci modulu xlrd\n",
    "\n",
    "df_csob = pd.read_excel(os.path.join(\"dataset\", \"csob.xls\"))\n",
    "df_csob"
   ]
  },
  {
   "cell_type": "code",
   "execution_count": null,
   "metadata": {},
   "outputs": [],
   "source": [
    "# do formátu xls (Microsoft Excel) lze dataframy i zapisovat\n",
    "# na ukázku vytvoříme nový dataframe z toho existujícího a uložíme na disk \n",
    "# potřebujeme modul openpyxl\n",
    "csob_july = df_csob[(df_csob[\"date of posting\"] >= '1 Jul 2022'\n",
    "         ) & (df_csob[\"date of posting\"] < '15.07.2022')]\n",
    "\n",
    "csob_july.to_excel(\"./dataset/csob_july.xlsx\")"
   ]
  },
  {
   "cell_type": "code",
   "execution_count": null,
   "metadata": {},
   "outputs": [],
   "source": [
    "# čtení z textových souborů a souborů s oddělovači (CSV)\n",
    "csv_sample = pd.read_csv(\"./dataset/sample.csv\")\n",
    "csv_sample"
   ]
  },
  {
   "cell_type": "code",
   "execution_count": null,
   "metadata": {},
   "outputs": [],
   "source": [
    "# načítat soubory, například typu CSV, lze i přímo z webových zdrojů (např. http)\n",
    "# zkušení CSV soubory\n",
    "# https://people.sc.fsu.edu/~jburkardt/data/csv/csv.html\n",
    "\n",
    "ford_escort = pd.read_csv('https://people.sc.fsu.edu/~jburkardt/data/csv/ford_escort.csv')\n",
    "ford_escort"
   ]
  },
  {
   "cell_type": "code",
   "execution_count": null,
   "metadata": {},
   "outputs": [],
   "source": [
    "# podobně jako při tvorbě nových dataframů lze specifikovat, které sloupce budou načteny\n",
    "# parametr names specifikuje jména sloupců, header číslo řádku kde se vyskytují původní názvy sloupců ve zdrojovém souboru\n",
    "ford_escort_yr_price = pd.read_csv('https://people.sc.fsu.edu/~jburkardt/data/csv/ford_escort.csv',names=[\"Year\",\"Price\"],header=0)\n",
    "ford_escort_yr_price"
   ]
  },
  {
   "cell_type": "code",
   "execution_count": null,
   "metadata": {},
   "outputs": [],
   "source": [
    "# podobně lze využívat i parametr usecols\n",
    "biostats = pd.read_csv('https://people.sc.fsu.edu/~jburkardt/data/csv/biostats.csv', usecols=[0,2,3,4])\n",
    "biostats"
   ]
  },
  {
   "cell_type": "code",
   "execution_count": null,
   "metadata": {},
   "outputs": [],
   "source": [
    "# parameter index_col umožňuje specifikovat který ze sloupců využít k indexaci dataframu\n",
    "biostats_alt_index = pd.read_csv('https://people.sc.fsu.edu/~jburkardt/data/csv/biostats.csv',index_col = \"Name\")\n",
    "biostats_alt_index"
   ]
  },
  {
   "cell_type": "code",
   "execution_count": 16,
   "metadata": {},
   "outputs": [],
   "source": [
    "# podobně jako u souborů ve formátu excel lze do CSV souborů zapisovat\n",
    "\n",
    "biostats_alt_index.to_csv(\"./dataset/biostats.csv\")"
   ]
  },
  {
   "cell_type": "code",
   "execution_count": 11,
   "metadata": {},
   "outputs": [],
   "source": [
    "# dalšími často využívanými formáty jsou JSON, HTML, LaTeX a SQL\n",
    "\n",
    "biostats_alt_index.to_json('./dataset/biostats.json')\n",
    "biostats_alt_index.to_html('./dataset/biostats.html')\n",
    "biostats_alt_index.style.to_latex('./dataset/biostats.tex') # Pouze zápis\n",
    "\n",
    "# biostats_alt_index.to_sql() Vyžaduje nainstalovaný SQL Engine"
   ]
  },
  {
   "cell_type": "code",
   "execution_count": null,
   "metadata": {},
   "outputs": [],
   "source": [
    "# Vizualizace HTML souboru\n",
    "\n",
    "from IPython.display import display, HTML\n",
    "with open('./dataset/biostats.html','r', encoding='utf-8') as f:  \n",
    "    display(HTML(f.read()))"
   ]
  },
  {
   "cell_type": "code",
   "execution_count": null,
   "metadata": {},
   "outputs": [],
   "source": [
    "# načtení JSON souboru modulem pandas versus načtení modulem JSON\n",
    "\n",
    "pd.read_json('./dataset/biostats.json')"
   ]
  },
  {
   "cell_type": "code",
   "execution_count": null,
   "metadata": {},
   "outputs": [],
   "source": [
    "import json\n",
    "\n",
    "with open('./dataset/biostats.json', 'r', encoding='utf-8') as f:\n",
    "    df_as_json = json.loads(f.read())\n",
    "df_as_json"
   ]
  },
  {
   "cell_type": "markdown",
   "metadata": {},
   "source": [
    "<h5>Podobně jako u tvorby dataframů z datových typů Pythonu lze při načítání specifikovat datové typy a formáty </h5>"
   ]
  },
  {
   "cell_type": "code",
   "execution_count": null,
   "metadata": {},
   "outputs": [],
   "source": [
    "# Explicitní nastavení sloupce Age na 8bitový integer z modulu Numpy\n",
    "df_stats = pd.read_csv(\"./dataset/biostats.csv\", dtype={' \"Age\"':np.int8})\n",
    "df_stats"
   ]
  },
  {
   "cell_type": "code",
   "execution_count": null,
   "metadata": {},
   "outputs": [],
   "source": [
    "type(df_stats[' \"Age\"'][0])"
   ]
  },
  {
   "cell_type": "code",
   "execution_count": null,
   "metadata": {},
   "outputs": [],
   "source": [
    "# Pomocí parametrů true_values a false_values lze upravit, které hodnoty mají být načteny jako Python boolean\n",
    "df_truefalse = pd.read_csv('./dataset/pravda_nepravda.csv', index_col=\"Osoba\")\n",
    "df_truefalse"
   ]
  },
  {
   "cell_type": "code",
   "execution_count": null,
   "metadata": {},
   "outputs": [],
   "source": [
    "# S parametry true_values a false_values\n",
    "df_boolean = pd.read_csv('./dataset/pravda_nepravda.csv', index_col=\"Osoba\", true_values=[\"Pravda\"], false_values=[\"Nepravda\"])\n",
    "df_boolean"
   ]
  },
  {
   "cell_type": "code",
   "execution_count": null,
   "metadata": {},
   "outputs": [],
   "source": [
    "type(df_boolean[\"Vyrok 1\"][0])"
   ]
  },
  {
   "cell_type": "markdown",
   "metadata": {},
   "source": [
    "<h5>Konvence a znaky využívané v načítaných souborech typu CSV</h5>\n"
   ]
  },
  {
   "cell_type": "code",
   "execution_count": null,
   "metadata": {},
   "outputs": [],
   "source": [
    "# Při načítání souborů formátu CSV se mohou lišit oddělovači, kódováním znaků či znaky sloužícími k oddělenní tisíců, desetin či typek úvozovek\n",
    "df_coded = pd.read_csv('./dataset/sample_coded.csv', sep=';', quotechar='\"',encoding='utf-8')\n",
    "df_coded"
   ]
  },
  {
   "cell_type": "markdown",
   "metadata": {},
   "source": [
    "<h1>Finální cvičení - tvorba vlastního programu do příkazové řádky pro automatizované zpracování dat ve známém formátu, např. výpisu z elektronického bankovnictví</h1>"
   ]
  },
  {
   "cell_type": "markdown",
   "metadata": {},
   "source": [
    "<h5>K nastavení před spuštěním bude potřeba modul argparse</h5>"
   ]
  },
  {
   "cell_type": "markdown",
   "metadata": {},
   "source": [
    "<https://docs.python.org/3/library/argparse.html>"
   ]
  },
  {
   "cell_type": "code",
   "execution_count": null,
   "metadata": {},
   "outputs": [],
   "source": [
    "#!pip install argparse\n",
    "import argparse\n",
    "from pathlib import Path\n",
    "\n",
    "parser = argparse.ArgumentParser(prog=\"My app for data analysis\",description=\"Takes csv/excel and processes it/computes statistics\")\n",
    "parser.add_argument(\"--src\", required=True, type=Path, default=None)\n",
    "parser.add_argument(\"--dest\", required=False, type=str, default=None)\n",
    "parser.add_argument(\"--make_figs\", action=argparse.BooleanOptionalAction)\n",
    "parser.add_argument(\"--make_summary\", action=argparse.BooleanOptionalAction)"
   ]
  },
  {
   "cell_type": "markdown",
   "metadata": {},
   "source": [
    "<h5>Kód výše vytvoří objekt typu argparse, nastaví které argumenty má parser očekávat</h5>\n",
    "\n",
    "Funguje ze souborů typu .py, které se spouštějí z příkazové řádky příkazem: `python *.py [argumenty]`"
   ]
  },
  {
   "cell_type": "markdown",
   "metadata": {},
   "source": [
    "<h5>Argmenty mohou být zpracovány více způsoby a mohou být předávány jako různé datové typy</h5>\n",
    "\n",
    "<ul>\n",
    "<li> type=str/int/float vrátí přímo hodnotu ve zvoleném typu \n",
    "<li> hodnoty lze specifikovat parametrem choices, který akceptuje například seznam hodnot [choice1, choice2] nebo číselný rozsah range(N)\n",
    "<li> pro pouhé pravdivostní přepínače je vhodné využívat akci BooleanOptionalAction, která vrátí True pokud je mezi vstupními argumenty, jinak None (ekvivalentní s hodnotou False)\n",
    "</ul>"
   ]
  },
  {
   "cell_type": "code",
   "execution_count": null,
   "metadata": {},
   "outputs": [],
   "source": [
    "# v případě programu spouštěného z příkazové řádky bychom volali parse_args bez argumentů, které by si parser načetl z konzole/terminálu\n",
    "args = parser.parse_args([\"--src\",\"./dataset/csob_july.xlsx\", \"--dest\", \"./dataset\", \"--make_figs\"])\n",
    "args"
   ]
  },
  {
   "cell_type": "code",
   "execution_count": null,
   "metadata": {},
   "outputs": [],
   "source": [
    "args.src"
   ]
  },
  {
   "cell_type": "markdown",
   "metadata": {},
   "source": [
    "V cílovém programu na zpracování dat využijte modul argparse k vytvoření několika nastavitelných možností, například výpočet variabilního množství statistik či ukládání grafů na disk"
   ]
  },
  {
   "cell_type": "markdown",
   "metadata": {},
   "source": [
    "<h5>Práce se s cestami</h5>"
   ]
  },
  {
   "cell_type": "markdown",
   "metadata": {},
   "source": [
    "V jazyce Python se k práci s cestami nejčastěji využívají moduly `os` a `pathlib`. Modul `os` obsahuje různé nástroje pro interakci s operačním systémem včetně cest, zatímco `pathlib` umožňuje objektově-orientovanou práci s cestami (základní objekt cesty `Path`)"
   ]
  },
  {
   "cell_type": "code",
   "execution_count": 29,
   "metadata": {},
   "outputs": [],
   "source": [
    "import pathlib\n",
    "import os"
   ]
  },
  {
   "cell_type": "code",
   "execution_count": 30,
   "metadata": {},
   "outputs": [],
   "source": [
    "# specifikujeme složku se souboru\n",
    "src = './dataset'"
   ]
  },
  {
   "cell_type": "code",
   "execution_count": 31,
   "metadata": {},
   "outputs": [
    {
     "name": "stdout",
     "output_type": "stream",
     "text": [
      "Absolute path with os module: /Users/pberanek91/ws/Vyuka/bee it/projekty python/DA_bankovni_ucet/cviceni/tyden4/dataset\n",
      "Absolute path with pathlib module: /Users/pberanek91/ws/Vyuka/bee it/projekty python/DA_bankovni_ucet/cviceni/tyden4/dataset\n"
     ]
    }
   ],
   "source": [
    "# Jako první chceme zjistit absolutní cestu k naší složce\n",
    "\n",
    "# pomocí modulu os\n",
    "os_abspath = os.path.abspath(src)\n",
    "print(\"Absolute path with os module:\",os_abspath)\n",
    "# pomocí modulu pathlib\n",
    "pathlib_abspath = pathlib.Path(src).absolute()\n",
    "print(\"Absolute path with pathlib module:\",pathlib_abspath)"
   ]
  },
  {
   "cell_type": "code",
   "execution_count": 32,
   "metadata": {},
   "outputs": [
    {
     "name": "stdout",
     "output_type": "stream",
     "text": [
      "Directory content with os module: ['csob.xls', 'pravda_nepravda.csv', 'sample.csv', 'sample_coded.csv'] \n",
      "\n",
      "Directory content with pathlib module: [PosixPath('dataset/csob.xls'), PosixPath('dataset/pravda_nepravda.csv'), PosixPath('dataset/sample.csv'), PosixPath('dataset/sample_coded.csv')]\n"
     ]
    }
   ],
   "source": [
    "# Další krok bude vypsání obsahu složky\n",
    "\n",
    "# modul os\n",
    "os_dir_content = os.listdir(os_abspath)\n",
    "print(\"Directory content with os module:\",os_dir_content,\"\\n\")\n",
    "# modul pathlib\n",
    "pathlib_dir_content = list(pathlib.Path(src).iterdir()) # vytvoří objekt typu iterable který je potřeba rozbalit do seznamu\n",
    "print(\"Directory content with pathlib module:\",pathlib_dir_content)"
   ]
  }
 ],
 "metadata": {
  "kernelspec": {
   "display_name": "venv",
   "language": "python",
   "name": "python3"
  },
  "language_info": {
   "codemirror_mode": {
    "name": "ipython",
    "version": 3
   },
   "file_extension": ".py",
   "mimetype": "text/x-python",
   "name": "python",
   "nbconvert_exporter": "python",
   "pygments_lexer": "ipython3",
   "version": "3.10.9 (main, Dec 15 2022, 10:44:50) [Clang 14.0.0 (clang-1400.0.29.202)]"
  },
  "orig_nbformat": 4,
  "vscode": {
   "interpreter": {
    "hash": "2b52233c30416fbc13c2adb0327188b9dda534945cffcec95263c88a006df380"
   }
  }
 },
 "nbformat": 4,
 "nbformat_minor": 2
}
