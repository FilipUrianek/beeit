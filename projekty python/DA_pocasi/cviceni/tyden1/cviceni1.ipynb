{
 "cells": [
  {
   "attachments": {},
   "cell_type": "markdown",
   "metadata": {},
   "source": [
    "# Práce s API\n",
    "\n",
    "Prvním krokem k tvorbě naší aplikace bude vytvoření virtuálního prostředí jazyka Python3. Virtuální prostředí představuje oddělenou \"větev\" nainstalovaného interpreteru a umožňuje instalovat odlišné moduly tak, že k nim hlavní instance Pythonu nemá přístup. Virutální prostředí můžeme vytvořit pomocí následujícího příkazu v terminálu či příkazovém řádku:\n",
    "\n",
    "`$ python3 -m venv .venv`\n",
    "\n",
    "Následně je pro použití nutné prostředí aktivovat (způsob se liší podle platformy)\n",
    "\n",
    "macOS/Linux (bash/zsh): <br>\n",
    "`$ source .venv/bin/activate`\n",
    "\n",
    "Windows (cmd): <br>\n",
    "`C:\\> <venv>\\Scripts\\activate.bat`\n",
    "\n",
    "Windows (PowerShell): <br>\n",
    "`C:\\> <venv>\\Scripts\\activate.ps1`\n",
    "\n",
    "Aktivované prostředí indikuje jeho název v závorce na začátku příkazového řádku: <br>\n",
    "`(.venv) myaccount@mymachine ProjectDirectory %`\n",
    "\n",
    "Moduly instalujeme běžně příkazem `pip install <mymodule>` a programy spouštíme `python <myapp>`\n",
    "\n",
    "Do virtuálního prostředí budeme instalovat veškeré potřebné moduly a budeme ho používat ke spuštění naší aplikace. Prvním krokem k tvorbě aplikace bude zdroj dat, která budeme následně pomocí webového prostředí uživateli prezentovat.\n",
    "K získávání dat o poloze a počasí budeme využívat API odpovídající standardu REST od poskytovatele OpenWeatherMap. Standard REST(RESTful) specifikuje provozovateli a tvůrci API pravidla, podle kterých má být API vystavěna a provozována. Pro nás jakožto koncového uživatele, který implementuje API ve své aplikaci, je však relevantní pouze informace, že \"reprezentace\" zdroje, tedy informace dodané API, jsou ve standardním formátu JSON. Pro používání API je také důležité znát pojem parametrů, které jsou unikátní pro jednotlivé typy HTTP dotazů na API. Konkrétní parametry specifikuje provozovatel API, v našem případě OpenWeatherMap.\n",
    "\n",
    "Více o standardu REST: <https://www.redhat.com/en/topics/api/what-is-a-rest-api>\n",
    "\n",
    "API OpenWeatherMap: <https://openweathermap.org/api> \n",
    "\n",
    "Prvním krokem k využití OWM API je registrace, po které Vám bude přidělen unikátní identifikátor, tzv. API Key. Jedná se o klíčový parametr pro všechny dotazy na API a je unikátní pro každého registrovaného uživatele. \n",
    "\n",
    "Po registraci a získání API klíče je nutné zjistit, které konkrétní parametry budeme muset API dodat tak, abychom zíkali potřebné informace o poloze a počasí.\n",
    "\n",
    "Pro získávání meteorologických dat budeme využívat Weather API, pro zeměpisná data pak Geocoding API."
   ]
  },
  {
   "cell_type": "code",
   "execution_count": 1,
   "metadata": {},
   "outputs": [],
   "source": [
    "weather_api_url = \"https://api.openweathermap.org/data/2.5/weather\"\n",
    "geocoding_api_url = \"http://api.openweathermap.org/geo/1.0/direct\""
   ]
  },
  {
   "cell_type": "markdown",
   "metadata": {},
   "source": [
    "Za účelem volání HTTP dotazů existuje pro jazyk Python modul `requests` <https://pypi.org/project/requests/>, kterou si nainstalujeme a importujeme do naší aplikace\n",
    "\n",
    "`pip install requests`<br>\n",
    "`import requests`\n",
    "\n",
    "Další důležitou částí jsou data ve formátu JSON. Formát JSON (JavaScript Object Notation) je hojně využívaný z důvodu své jednoduché čitelnosti jak programátory, tak počítači. I přes svůj název se jedná o jazykově nezávislou strukturu, jejíž datové podstruktuy odpovídají běžným datovým strukturám využívaným ve většině moderních programovacích jazyků. V jazyce Python se jedná o slovníky (dictionary) a seznamy (list). <br>\n",
    "\n",
    "<https://www.json.org/json-en.html><br>\n",
    "\n",
    "Pro práci s formátem JSON nabízí modul requests vestavěnou metodu `.json()`, alternativně můžeme však využít celý vestavěný modul `json`, který nabízí širší funkcionalitu."
   ]
  },
  {
   "cell_type": "markdown",
   "metadata": {},
   "source": [
    "Posledním krokem před prvním voláním dotazu API je tvorba souboru s proměnnou prostředí, která bude uchovávat náš unikátní API klíč. Ten bychom neměli v žádném případě odhalovat ve zdrojovém kódu naší aplikace. Proměnná prostředí je souborem `.env`, který obsahuje data v řádcích v následujícím formátů: \"MY_API_KEY=<api_key>\". \n",
    "\n",
    "Vytvořit ho můžeme pomocí terminálu či přímo modulu jazyka Python `os`\n",
    "\n",
    "macOS/Linux:\n",
    "\n",
    "`$ touch .env` <br>\n",
    "`$ echo \"USER_KEY=<api_key>\" >> .env`"
   ]
  },
  {
   "cell_type": "code",
   "execution_count": null,
   "metadata": {},
   "outputs": [],
   "source": [
    "api_key = \"můj API klíč\"\n",
    "import os\n",
    "os.system(\"touch .env\")\n",
    "os.system(f'echo \"USER_KEY={api_key}\" >> .env')"
   ]
  },
  {
   "cell_type": "markdown",
   "metadata": {},
   "source": [
    "V aplikaci pak jednotlivé proměnné prostředí přecteme pomocí modulu python-decouple <https://pypi.org/project/python-decouple/>, který slouží k oddělení nastavení aplikace od samotného zdrojového kódu.\n",
    "\n",
    "`pip install python-decouple` <br>\n",
    "`from decouple import config`\n",
    "\n",
    "Tím můžeme pokročit k poslání prvního dotazu na OpenWeatherMap API."
   ]
  },
  {
   "cell_type": "code",
   "execution_count": 6,
   "metadata": {},
   "outputs": [],
   "source": [
    "import decouple\n",
    "from decouple import config, AutoConfig\n",
    "\n",
    "config = AutoConfig(' ') #tento řádek je nutné přidat jen v případě jupyter notebooku\n",
    "KEY = config('USER_KEY')"
   ]
  },
  {
   "cell_type": "code",
   "execution_count": 7,
   "metadata": {},
   "outputs": [],
   "source": [
    "import requests\n",
    "import json\n",
    "\n",
    "weather_api_url = \"https://api.openweathermap.org/data/2.5/weather\"\n",
    "\n",
    "# jako souřadnice budeme používat přibližné souřadnice středu Čech\n",
    "lat = 50\n",
    "lon = 14\n",
    "\n",
    "# veškeré parametry HTTP dotazu umístíme do dictionary kde key parametru bude jeho název specifikovaný provozovatelem API\n",
    "\n",
    "params = {\n",
    "    \"APPID\":KEY,\n",
    "    \"lat\":lat,\n",
    "    \"lon\":lon\n",
    "}\n",
    "\n",
    "# nyní můžeme poslat samotnou žádost\n",
    "\n",
    "response = requests.get(weather_api_url, params=params)"
   ]
  },
  {
   "cell_type": "code",
   "execution_count": null,
   "metadata": {},
   "outputs": [],
   "source": [
    "# pomocí statusových kódu HTTP žádosti můžeme zjistit, zda proběhlo volání API bez problémů, kód 200 signalizuje správný průběh\n",
    "\n",
    "response.status_code"
   ]
  },
  {
   "cell_type": "code",
   "execution_count": null,
   "metadata": {},
   "outputs": [],
   "source": [
    "# nyní si zobrazíme obsah vrácený HTTP dotazem\n",
    "\n",
    "response.content"
   ]
  },
  {
   "cell_type": "code",
   "execution_count": null,
   "metadata": {},
   "outputs": [],
   "source": [
    "# obsah převedeme na python objekt JSON, který se chová jako běžný dictionary\n",
    "\n",
    "data = json.loads(response.content)\n",
    "data"
   ]
  },
  {
   "cell_type": "code",
   "execution_count": null,
   "metadata": {},
   "outputs": [],
   "source": [
    "# nyní můžeme z JSON objektu získávat jednotlivé údaje o počasí v naší lokalitě\n",
    "\n",
    "data[\"weather\"][0][\"description\"]"
   ]
  },
  {
   "cell_type": "markdown",
   "metadata": {},
   "source": [
    "<h1>Cvičení 1</h1>\n",
    "\n",
    "Vytvořte program, který umožní uživateli zadat souřadnice a na jejich základě získá informace o počasí v jejich lokalitě. Ty úhledně vypíše na výstupu. Bude se jednat o název místa, zemi, slovní popis počasí, teplotu (v °C) a rychlost větru (v km/h). Pro detaily k jednotlivým údajům konzultujte oficiální dokumentaci OpenWeatherMap."
   ]
  },
  {
   "cell_type": "code",
   "execution_count": null,
   "metadata": {},
   "outputs": [],
   "source": [
    "# místo pro váš kód"
   ]
  },
  {
   "cell_type": "markdown",
   "metadata": {},
   "source": [
    "<h1>Vzorové řešení 1</h1>"
   ]
  },
  {
   "cell_type": "code",
   "execution_count": null,
   "metadata": {},
   "outputs": [],
   "source": [
    "# spusťte pro kontrolu funkcionality\n",
    "\n",
    "import json\n",
    "import requests\n",
    "from decouple import config, AutoConfig\n",
    "\n",
    "config = AutoConfig(' ')\n",
    "KEY = config('USER_KEY')\n",
    "\n",
    "def get_user_input():\n",
    "    values = []\n",
    "    for c in [\"latitude\", \"longtitude\"]:\n",
    "        try:\n",
    "            val = float(input(f\"Please enter the {c} of your location: \"))\n",
    "        except ValueError:\n",
    "            print(\"Error - not a number, please retry\")\n",
    "            val = float(input(f\"Please enter the {c} of your location: \"))\n",
    "        values.append(val)         \n",
    "    return values\n",
    "\n",
    "def parse_data(lat_lon):\n",
    "    api_url = \"https://api.openweathermap.org/data/2.5/weather\"\n",
    "    params = {\"APPID\": KEY}\n",
    "    params[\"lat\"], params[\"lon\"] = lat_lon\n",
    "    response = requests.get(api_url,params=params) \n",
    "    return json.loads(response.content) if response.status_code == 200 else print(\"Uknown error when sending HTTP request\")\n",
    "        \n",
    "def extract_weather(data):\n",
    "    city = data[\"name\"]\n",
    "    country = data[\"sys\"][\"country\"]\n",
    "    desc = data[\"weather\"][0][\"description\"]\n",
    "    temp_raw = data[\"main\"][\"temp\"] - 273.15\n",
    "    wind_raw = data[\"wind\"][\"speed\"] * 3.6\n",
    "    temp = str(round(temp_raw, 2)) + \" °C\"\n",
    "    wind = str(round(wind_raw,2)) + \" km/h\"\n",
    "    return [city, country, desc, temp, wind]\n",
    "\n",
    "def print_all(_list):\n",
    "    for x in _list:\n",
    "        print(x)\n",
    "        \n",
    "def main():\n",
    "    lat_lon = get_user_input()\n",
    "    weather_data = parse_data(lat_lon)\n",
    "    to_print = extract_weather(weather_data)\n",
    "    print_all(to_print)\n",
    "\n",
    "if __name__ == '__main__':\n",
    "    main() "
   ]
  },
  {
   "cell_type": "markdown",
   "metadata": {},
   "source": [
    "Nyní jsme se naučili používat API na získávání informací o počasí, v aplikaci však nebudeme využívat pouze tuto API. Další potřebnou součástí je tzv. Geocoding API. Ta nám umožňuje získavat zeměpisné informace na základě vstupních dat determinujících konkrétní místo. Zpravidla se jedná buď o souřadnice daného bodu, či název města, státu (v USA) a země. \n",
    "\n",
    "<https://openweathermap.org/api/geocoding-api>\n",
    "\n",
    "Pro získávání souřadnic daného bodu z názvu místa budeme využívat funkci \"direct geocoding\", která nám vrátí soubor JSON obsahující souřadnice místa. Tato funkcionalita nám později v aplikaci umožní vyhledávání počasí podle názvu místa, což může být pro některé uživatele přívětivější, než hledání na mapě. Na základě dokumentace k této funkci můžeme zjistit, že potřebné parametry jsou ve formátu `q={název města}, {kód státu (pro USA)}, {kód země}`"
   ]
  },
  {
   "cell_type": "code",
   "execution_count": 14,
   "metadata": {},
   "outputs": [],
   "source": [
    "import requests\n",
    "import json\n",
    "from decouple import config, AutoConfig\n",
    "\n",
    "config = AutoConfig(' ')\n",
    "KEY = config('USER_KEY')\n",
    "direct_geocoding_api_url = \"http://api.openweathermap.org/geo/1.0/direct\"\n",
    "\n",
    "# jako název budeme používat Prahu a Českou republiku\n",
    "\n",
    "query = \"Praha, CZ\" \n",
    "\n",
    "# veškeré parametry HTTP dotazu umístíme do dictionary kde key parametru bude jeho název specifikovaný provozovatelem API\n",
    "\n",
    "params = {\n",
    "    \"APPID\": KEY,\n",
    "    \"q\":query\n",
    "}\n",
    "\n",
    "# nyní můžeme poslat samotnou žádost\n",
    "\n",
    "response = requests.get(direct_geocoding_api_url, params=params)\n"
   ]
  },
  {
   "cell_type": "code",
   "execution_count": null,
   "metadata": {},
   "outputs": [],
   "source": [
    "# pomocí statusových kódu HTTP žádosti můžeme zjistit, zda proběhlo volání API bez problémů, kód 200 signalizuje správný průběh\n",
    "\n",
    "response.status_code"
   ]
  },
  {
   "cell_type": "code",
   "execution_count": null,
   "metadata": {},
   "outputs": [],
   "source": [
    "# nyní si zobrazíme obsah vrácený HTTP dotazem\n",
    "\n",
    "response.content"
   ]
  },
  {
   "cell_type": "code",
   "execution_count": null,
   "metadata": {},
   "outputs": [],
   "source": [
    "# obsah převedeme na python objekt JSON, který se chová jako běžný dictionary\n",
    "\n",
    "data = json.loads(response.content)\n",
    "data"
   ]
  },
  {
   "cell_type": "code",
   "execution_count": null,
   "metadata": {},
   "outputs": [],
   "source": [
    "# nyní můžeme zjistit souřadnice místa, které jsme vyhledali na základě názvu\n",
    "\n",
    "data[0][\"lat\"], data[0][\"lon\"]"
   ]
  },
  {
   "cell_type": "markdown",
   "metadata": {},
   "source": [
    "Pokud bychom však chtěli vyhledávat obráceně, tedy ze souřadnic získat název místa, museli bychom využít jinou funkci. Ta se nazývá \"reverse geocoding\" a obdobně pro ní OpenWeatherMap nabízí API."
   ]
  },
  {
   "cell_type": "code",
   "execution_count": 19,
   "metadata": {},
   "outputs": [],
   "source": [
    "reverse_geocoding_api_url = \"http://api.openweathermap.org/geo/1.0/reverse\""
   ]
  },
  {
   "cell_type": "markdown",
   "metadata": {},
   "source": [
    "Její parametry jsou identické, jako API na získávání meteorologických dat."
   ]
  },
  {
   "cell_type": "code",
   "execution_count": 20,
   "metadata": {},
   "outputs": [],
   "source": [
    "import requests\n",
    "import json\n",
    "from decouple import config, AutoConfig\n",
    "\n",
    "config = AutoConfig(' ')\n",
    "KEY = config('USER_KEY')\n",
    "reverse_geocoding_api_url = \"http://api.openweathermap.org/geo/1.0/reverse\"\n",
    "\n",
    "# jako souřadnice budeme používat přibližné souřadnice středu Čech\n",
    "lat = 50\n",
    "lon = 14\n",
    "# veškeré parametry HTTP dotazu umístíme do dictionary kde key parametru bude jeho název specifikovaný provozovatelem API\n",
    "\n",
    "params = {\n",
    "    \"APPID\": KEY,\n",
    "    \"lat\": lat,\n",
    "    \"lon\": lon\n",
    "}\n",
    "\n",
    "# nyní můžeme poslat samotnou žádost\n",
    "\n",
    "response = requests.get(reverse_geocoding_api_url, params=params)"
   ]
  },
  {
   "cell_type": "code",
   "execution_count": null,
   "metadata": {},
   "outputs": [],
   "source": [
    "# zopakujeme stejný postup, jaku u předchozích příkladů \n",
    "\n",
    "print(response.status_code)\n",
    "print(\"----------------\")\n",
    "print(response.content)\n",
    "print(\"----------------\")\n",
    "data = json.loads(response.content)\n",
    "data"
   ]
  },
  {
   "cell_type": "code",
   "execution_count": null,
   "metadata": {},
   "outputs": [],
   "source": [
    "# nyní již můžeme zjistit, jak se jmenuje místo, jehož souřadnice jsme uvedli v HTTP dotazu na reverse geocoding API\n",
    "\n",
    "data[0][\"name\"], data[0][\"country\"]"
   ]
  },
  {
   "cell_type": "markdown",
   "metadata": {},
   "source": [
    "<h1>Cvičení 2</h1>\n",
    "\n",
    "Vytvořte program, který se zeptá uživatele na místo, které bude moci zadat jako souřadnice nebo jako název místa (co zadá musí program poznat sám). Následně mu bude vypsán buď název nebo souřadnice (v závislosti na tom, co zadal) a korespondující počasí s identickými údaji, jako v předchozím cvičení. Údaje by navíc měli být popsané identifikátorem údaje a odděleny prázdným řádkem. "
   ]
  },
  {
   "cell_type": "code",
   "execution_count": null,
   "metadata": {},
   "outputs": [],
   "source": [
    "# místo pro Váš kód"
   ]
  },
  {
   "cell_type": "markdown",
   "metadata": {},
   "source": [
    "<h1>Vzorové řešení 2</h1>"
   ]
  },
  {
   "cell_type": "code",
   "execution_count": null,
   "metadata": {},
   "outputs": [],
   "source": [
    "# spusťte pro kontrolu funkctionality\n",
    "\n",
    "import json\n",
    "import requests\n",
    "from decouple import config, AutoConfig\n",
    "\n",
    "config = AutoConfig(' ')\n",
    "KEY = config('USER_KEY')\n",
    "\n",
    "def geocode_reverse(_values, _params):\n",
    "    direct_geocoding_api_url = \"http://api.openweathermap.org/geo/1.0/reverse\"\n",
    "    params = _params.copy()\n",
    "    params[\"lat\"] = _values[0]\n",
    "    params[\"lon\"] = _values[1]\n",
    "    response = requests.get(direct_geocoding_api_url, params=params)\n",
    "    return json.loads(response.content) if response.status_code == 200 else print(\"Uknown error when sending reverse geocoding request\")\n",
    "\n",
    "def geocode_direct(_values, _params):\n",
    "    reverse_geocoding_api_url = \"http://api.openweathermap.org/geo/1.0/direct\"\n",
    "    params = _params.copy()\n",
    "    params[\"q\"] = f\"{_values[0]},{_values[1]}\"\n",
    "    response = requests.get(reverse_geocoding_api_url, params=params)\n",
    "    return json.loads(response.content) if response.status_code == 200 else print(\"Uknown error when sending direct geocoding request\")\n",
    "\n",
    "def parse_weather_data(lat_lon, params):\n",
    "    weather_api_url = \"https://api.openweathermap.org/data/2.5/weather\"\n",
    "    params[\"lat\"], params[\"lon\"] = lat_lon\n",
    "    response = requests.get(weather_api_url, params=params)\n",
    "    return json.loads(response.content) if response.status_code == 200 else print(\"Uknown error when sending weather data request\")\n",
    "       \n",
    "def get_user_input():\n",
    "    input_val = input(\"Enter your desired location either as lat,lon or city,country\")\n",
    "    input_val = input_val.split(\",\")\n",
    "    values = []\n",
    "    try:\n",
    "        for val in input_val:\n",
    "          values.append(float(val))  \n",
    "    except ValueError:\n",
    "        for val in input_val:\n",
    "            values.append(str(val))\n",
    "    return values \n",
    "\n",
    "\n",
    "def parse_data(_values):\n",
    "    params = {\"APPID\": KEY}\n",
    "    display_name = None\n",
    "    if isinstance(_values[0],float):\n",
    "        geo_data = geocode_reverse(_values, params)\n",
    "        display_name = f'City: {data[0][\"name\"]}, Country: {data[0][\"country\"]}'\n",
    "    else:\n",
    "        geo_data = geocode_direct(_values, params)\n",
    "        display_name = f'Latitude: {data[0][\"lat\"]}, Longtitude: { data[0][\"lon\"]}'\n",
    "    lat_lon = [data[0][\"lat\"], data[0][\"lon\"]]\n",
    "    weather_data = parse_weather_data(lat_lon, params)\n",
    "    return display_name, weather_data\n",
    "\n",
    "def extract_weather(data):\n",
    "    desc = data[\"weather\"][0][\"description\"]\n",
    "    temp_raw = data[\"main\"][\"temp\"] - 273.15\n",
    "    wind_raw = data[\"wind\"][\"speed\"] * 3.6\n",
    "    temp = str(round(temp_raw, 2)) + \" °C\"\n",
    "    wind = str(round(wind_raw, 2)) + \" km/h\"\n",
    "    return [f\"Description: {desc}\",f\"Temperature: {temp}\", f\"Wind speed: {wind}\"]\n",
    "\n",
    "\n",
    "def print_all(_list):\n",
    "    for x in _list:\n",
    "        print(x + \"\\n\")\n",
    "\n",
    "\n",
    "def main():\n",
    "    values = get_user_input()\n",
    "    display_name, weather_data = parse_data(values)\n",
    "    to_print = extract_weather(weather_data)\n",
    "    to_print.insert(0, display_name)  \n",
    "    print_all(to_print)\n",
    "\n",
    "\n",
    "if __name__ == '__main__':\n",
    "    main()\n"
   ]
  }
 ],
 "metadata": {
  "kernelspec": {
   "display_name": "venv",
   "language": "python",
   "name": "python3"
  },
  "language_info": {
   "codemirror_mode": {
    "name": "ipython",
    "version": 3
   },
   "file_extension": ".py",
   "mimetype": "text/x-python",
   "name": "python",
   "nbconvert_exporter": "python",
   "pygments_lexer": "ipython3",
   "version": "3.10.9"
  },
  "orig_nbformat": 4,
  "vscode": {
   "interpreter": {
    "hash": "7a65142a01a126fc5fa74ae82e326ce77353e4bd74b5497cc1fc98136384bb1f"
   }
  }
 },
 "nbformat": 4,
 "nbformat_minor": 2
}
