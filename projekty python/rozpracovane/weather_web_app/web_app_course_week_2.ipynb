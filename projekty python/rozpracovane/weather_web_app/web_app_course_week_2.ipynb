{
 "cells": [
  {
   "attachments": {},
   "cell_type": "markdown",
   "metadata": {},
   "source": [
    "# Práce s Dash/Plotly\n",
    "\n",
    "Nyní je možné přejít k tvorbě samotné aplikace. Bude se jednat o webovou aplikaci, což nám usnadní jak práci s uživatelským prostředím, tak kompatibilitou. Pro tvorbu aplikace v jazyce Python využijeme knihovnu Dash od tvůrců modulu `plotly`, se kterým je propojena a dokáže využívat jeho grafové funkce. Dash je vhodný pro tvorbu dashboardů či aplikací, jejichž hlavní úlohou je vizualizace dat. Zároveň umožnuje jednoduše implementovat interaktivní uživatelské prostředí díky svému základu ReactJS. \n",
    "\n",
    "Více informací je dostupné oficiální webové stránce: <https://dash.plotly.com/introduction>\n",
    "\n",
    "Modul Dash spolu s ostatními potřebnými knihovnami nainstalujeme následovně:\n",
    "\n",
    "`pip install dash plotly numpy pandas` <br>\n",
    "\n",
    "Dále vytvoříme v naší projektové složce soubor `app.py`, který bude obsahovat veškerý kód naší aplikace. Tento postup je identický jako pro knihovnu Flask, která tvoří backend modulu Dash.\n",
    "V aplikace dále importujeme základní komponenty knihovny Dash. Níže ve výčtu můžeme vidět jednotlivé funkce komponent.\n",
    "\n",
    "`from dash import Dash, Input, Output, dcc, html, State, callback`<br>\n",
    "Dash - třída pro inicializaci a spouštění aplikace <br>\n",
    "Input, Output, State - třídy potřebné k tvorbě metod reagujících na změny jednotlivých komponent (např. uživatelovo ovládání uživ. prostředí) <br>\n",
    "dcc - dash_core_components, modul základních vysokoúrovňových komponent dodávaných s modulem dash pro tvorbu aplikací, např. tlačítka, uživatelské vstupy, tabulky, nabídky <br>\n",
    "html - modul vnitřní reprezentace běžných HTML komponent <br>\n",
    "callback - metoda umožnující aplikaci regovat na změny jednotlivých komponent a v důsledku měnit vlastnosti jiných komponent <br>\n",
    "`import dash` - modul dash <br>"
   ]
  },
  {
   "cell_type": "code",
   "execution_count": null,
   "metadata": {},
   "outputs": [],
   "source": [
    "# všechny kódy opisujte do svého app.py souboru\n",
    "\n",
    "from dash import Dash, Input, Output, dcc, html, State, callback\n",
    "import dash"
   ]
  },
  {
   "cell_type": "markdown",
   "metadata": {},
   "source": [
    "Nyní je na řadě definovat si naší aplikaci, její název a použité CSS styly. Dále je také vhodné připojit meta-tags, které nám později umožní responzivnost aplikace (změny rozložení a velikostí v závislosti na rozměrech a orientaci cílového zařízení)"
   ]
  },
  {
   "cell_type": "code",
   "execution_count": null,
   "metadata": {},
   "outputs": [],
   "source": [
    "# všechny kódy opisujte do svého app.py souboru\n",
    "\n",
    "app = Dash(\"MyApp\", external_stylesheets=[\"\"\"sem patří CSS styly\"\"\"],\n",
    "           meta_tags=[{'name': 'viewport',\n",
    "                       'content': 'width=device-width, initial-scale=1.0'}])"
   ]
  },
  {
   "cell_type": "markdown",
   "metadata": {},
   "source": [
    "První částí, která tvoří výslednou aplikaci, je její rozložení (layout). V modulu dash definujeme toto rozložení jednoduše formou `app.layout`. Uvnitř `app.layout` používáme různé HTML komponenty, které jsme si importovali do naší aplikace v prvním kroku. <br>\n",
    "Více informací k layoutu: <https://dash.plotly.com/layout> <br>\n",
    "Více informací k HTML komponentám dashe: <https://dash.plotly.com/dash-html-components>"
   ]
  },
  {
   "cell_type": "code",
   "execution_count": null,
   "metadata": {},
   "outputs": [],
   "source": [
    "# všechny kódy opisujte do svého app.py souboru\n",
    "\n",
    "app.layout = html.Div(children=[\n",
    "    html.H1(children='Hello Dash'),\n",
    "    html.Div(children=\"My first Dash app\")\n",
    "    ])"
   ]
  },
  {
   "cell_type": "markdown",
   "metadata": {},
   "source": [
    "Při tvorbě layoutu bychom měli dodržovat stejné postupy a konvence, jako při tvorbě obyčejných webových stránek, tedy např. obalovat některé komponenty do Divu apod. <br>\n",
    "Nyní již stačí připojit podmínku, která při spuštění souboru `app.py` spustí aplikaci na lokálním serveru, jenž bude přístupný v prohlížeči."
   ]
  },
  {
   "cell_type": "code",
   "execution_count": null,
   "metadata": {},
   "outputs": [],
   "source": [
    "# všechny kódy opisujte do svého app.py souboru\n",
    "\n",
    "if __name__ == \"__main__\":\n",
    "    app.run_server(debug=True)"
   ]
  },
  {
   "cell_type": "markdown",
   "metadata": {},
   "source": [
    "Nyní spustíme aplikaci příkazem `python app.py` či ve vývojovém editoru VSCode klávesou F5 (pozor, naše virutální prostředí musí být zvoleno jako interpreter) a v terminálu dostaneme diagnostický výstup. Ten nám odhalí i výchozí adresu, na které se Dash spouští: <http://127.0.0.1:8050/>. Tu si otevřeme v prohlížeči a můžeme vidět, jak naše první Dashová aplikace úspěšně zobrazuje text, který jsme napsali do layoutu."
   ]
  },
  {
   "attachments": {},
   "cell_type": "markdown",
   "metadata": {},
   "source": [
    "![Dash1](./assets/images/dash1.png)"
   ]
  },
  {
   "cell_type": "markdown",
   "metadata": {},
   "source": [
    "Druhá důležitá součást Dashové aplikace je tzv. callback. Callback je funkce, která umožňuje interaktivnost aplikace a je reaktivně volána, kdykoli dojde ke změnám vlastností jednotlivých komponent specifikovaných jako jeho vstup, např. zmáčknutí tlačítka či posunutí slideru. Výstup callbacků jsou hodnoty, která budou použity ve vlastnostech komponent specifikovaných na výstupu, např. pozadí se změní z modré na červenou. \n",
    "<br>\n",
    "\n",
    "Více o callbacks: <https://dash.plotly.com/basic-callbacks> \n",
    "<br>\n",
    "\n",
    "S callbacky souvisí i dash_core_components (dcc), který již byly zmiňovány. Můžeme je využívat jako vstupy (`dcc.Input`) či výstupy (`dcc.Graph`).\n",
    "<br>\n",
    "\n",
    "Více o dcc: <https://dash.plotly.com/dash-core-components>\n",
    "<br>\n",
    "\n",
    "Vytvoříme nový layout, jenž bude obsahovat prvek vstupu a Div, do které se náš vstup vypíše. Protože callback musí cílový komponent přesně identifikovat, definujeme mu unikátní název (`id`), pomocí kterého se na něj budeme v callbacku odkazovat."
   ]
  },
  {
   "cell_type": "code",
   "execution_count": null,
   "metadata": {},
   "outputs": [],
   "source": [
    "# všechny kódy opisujte do svého app.py souboru\n",
    "\n",
    "app.layout = html.Div(children=[\n",
    "    html.H1(children='Hello Dash'),\n",
    "    dcc.Input(id=\"myInput\", placeholder=\"My first input\"),\n",
    "    html.Div(id=\"myOutputDiv\")\n",
    "])"
   ]
  },
  {
   "cell_type": "markdown",
   "metadata": {},
   "source": [
    "Nyní vytvoříme callback, který bude náš vstup přepisovat do Divu. Callback se tvoří dekorátorem, pod který definujeme funkci, již bude spouštět. Její vstupní proměnné pak odpovídajím vstupním vlastnostem callback ve stejném pořadí (tj. z leva do prava). Ještě připojíme atribut `prevent_inital_call`, který zamezí volání funkce při prvním načtení stránky. Nevznikne tak chyba kvůli chybějícím hodnotám na vstupu."
   ]
  },
  {
   "cell_type": "code",
   "execution_count": null,
   "metadata": {},
   "outputs": [],
   "source": [
    "# všechny kódy opisujte do svého app.py souboru\n",
    "\n",
    "@app.callback(Output(\"myOutputDiv\", \"children\"), Input(\"myInput\",\"value\"), prevent_initial_call=True)\n",
    "\n",
    "def update_my_div(value):\n",
    "    return \"Můj vstup: \" + value + \" v Divu\""
   ]
  },
  {
   "attachments": {},
   "cell_type": "markdown",
   "metadata": {},
   "source": [
    "![Dash2](./assets/images/dash2.png)"
   ]
  },
  {
   "cell_type": "markdown",
   "metadata": {},
   "source": [
    "Po spuštění a napsání náhodného textu vidíme, že nyní kdykoli změníme obsah textového vstupu, Div se aktualizuje a vypíše se aktální hodnota. Každý z komponentů Dashe má mnoho vlastností, které mohou měnit jeho vzhled a chování. Pokud bychom například nechtěli, aby se vstup aktualizoval při napsání každého nového znaku ale pouze když dopíšeme a klikneme mimo či zmáčkneme klávesu Enter, můžeme využít vlastnost `debounce`, jejíž hodnotu nastavíme dle dokumentace na bool hodnotu `True`.\n",
    "<br>\n",
    "\n",
    "Dokumentace komponenty input: <https://dash.plotly.com/dash-core-components/input>"
   ]
  },
  {
   "cell_type": "code",
   "execution_count": null,
   "metadata": {},
   "outputs": [],
   "source": [
    "# všechny kódy opisujte do svého app.py souboru\n",
    "\n",
    "app.layout = html.Div(children=[\n",
    "    html.H1(children='Hello Dash'),\n",
    "    dcc.Input(id=\"myInput\", placeholder=\"My first input\", debounce=True),\n",
    "    html.Div(id=\"myOutputDiv\")\n",
    "])"
   ]
  }
 ],
 "metadata": {
  "kernelspec": {
   "display_name": "venv",
   "language": "python",
   "name": "python3"
  },
  "language_info": {
   "name": "python",
   "version": "3.10.9 (main, Dec 15 2022, 10:44:50) [Clang 14.0.0 (clang-1400.0.29.202)]"
  },
  "orig_nbformat": 4,
  "vscode": {
   "interpreter": {
    "hash": "7a65142a01a126fc5fa74ae82e326ce77353e4bd74b5497cc1fc98136384bb1f"
   }
  }
 },
 "nbformat": 4,
 "nbformat_minor": 2
}
